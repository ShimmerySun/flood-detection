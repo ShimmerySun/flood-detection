{
 "cells": [
  {
   "cell_type": "markdown",
   "metadata": {},
   "source": [
    "Overall intended workflow for Abidjan flood detection. Based on process established by Huang et al. (2015)\n",
    "    - Import DG image downloaded from GBDX platform\n",
    "    - Convert geotiff files to numpy array via rasterio\n",
    "    - Scale to surface reflectance values (divide by 10,000)\n",
    "    - Define individual bands for later calculations\n",
    "    - Calculate indices (NDVI, multiple versions of NDWI) and dark parameter\n",
    "    - Threshold and plot based on Cloud to Street algorithm\n",
    "    - Calculate MSI \n",
    "    - Threshold and plot NDVI, NDWI and MSI\n",
    "    - Compare output to Cloud-to-Street results\n",
    "    - Segment final image \n",
    "    - Identify characteristics of objects (area, shape, density, length:width ratio, homogeneity)"
   ]
  },
  {
   "cell_type": "markdown",
   "metadata": {},
   "source": [
    "**References**\n",
    "Huang, X., Xie, C., Fang, X., Zhang, L. Combining Pixel-and Object-Based Machine Learning for Identification of Water-Body Types from Urban High-Resolution Remote-Sensing Imagery. IEEE J. Sel. Top. Appl. Earth Obs. Remote Sens. 2015, 8, 2097–2110.\n",
    "\n",
    "Cloud to Street. Urban Flood Mapping Using Very-High Resolution Satellite Imagery. Available at: https://abidjan.cloudtostreet.info/info"
   ]
  },
  {
   "cell_type": "markdown",
   "metadata": {},
   "source": [
    "This notebook calculates NDWI optimal and MSI per Xie et al. (2016) and subtracts MSI from NDWI, resulting in a final water mask. "
   ]
  },
  {
   "cell_type": "markdown",
   "metadata": {},
   "source": [
    "Cloud, MSI and NDWI images are morphologically opened to get rid of small one off pixels.\n",
    "Opening done via scikit image opening package"
   ]
  },
  {
   "cell_type": "code",
   "execution_count": null,
   "metadata": {},
   "outputs": [],
   "source": [
    "%matplotlib inline"
   ]
  },
  {
   "cell_type": "code",
   "execution_count": null,
   "metadata": {},
   "outputs": [],
   "source": [
    "# Import necessary packages\n",
    "import os\n",
    "import numpy as np\n",
    "import numpy.ma as ma\n",
    "import matplotlib.pyplot as plt\n",
    "from glob import glob\n",
    "from skimage.morphology import erosion, dilation, opening, closing, black_tophat, white_tophat\n",
    "from skimage import draw\n",
    "from skimage.morphology import disk, diamond\n",
    "import rasterio as rio\n",
    "from rasterio.mask import mask\n",
    "import earthpy as et\n",
    "import earthpy.spatial as es"
   ]
  },
  {
   "cell_type": "code",
   "execution_count": null,
   "metadata": {},
   "outputs": [],
   "source": [
    "# Set working directory\n",
    "os.chdir(os.path.join(et.io.HOME, 'earth-analytics','spring-2019', 'flood-detection'))\n",
    "os.environ[\"PROJ_LIB\"] = r\"C:\\Users\\katy\\Anaconda3\\envs\\earth-analytics-python\\Library\\share\""
   ]
  },
  {
   "cell_type": "markdown",
   "metadata": {},
   "source": [
    "### Update band_path with directory for imagery of interest"
   ]
  },
  {
   "cell_type": "code",
   "execution_count": null,
   "metadata": {},
   "outputs": [],
   "source": [
    "aoi = \"bietry_ps\"\n",
    "band_path = os.path.join(\"dg-data\", aoi +\"\\\\\")\n",
    "all_dg_bands = glob(band_path+\"*band_*\")\n",
    "all_dg_bands.sort()\n",
    "outputs_path = os.path.join(band_path, \"outputs\\\\\")"
   ]
  },
  {
   "cell_type": "code",
   "execution_count": null,
   "metadata": {},
   "outputs": [],
   "source": [
    "# Create raster stack of all bands\n",
    "all_bands_path = os.path.join(outputs_path, aoi + \"_all_bands.tif\")\n",
    "all_bands, all_bands_meta = es.stack(all_dg_bands,\n",
    "                                             all_bands_path)"
   ]
  },
  {
   "cell_type": "code",
   "execution_count": null,
   "metadata": {},
   "outputs": [],
   "source": [
    "# Open raster stack\n",
    "with rio.open(all_bands_path) as src:\n",
    "    all_bands_stack = src.read()\n",
    "    all_bands_stack_meta = src.profile\n",
    "    files_out_meta = src.profile\n",
    "    masks_out_meta = src.profile"
   ]
  },
  {
   "cell_type": "code",
   "execution_count": null,
   "metadata": {},
   "outputs": [],
   "source": [
    "# # Update files out meta for writing out single files\n",
    "# files_out_meta['count']=1\n",
    "# # Update masks_out_meta for writing single integer type files\n",
    "# masks_out_meta['dtype'] = 'int32'\n",
    "# masks_out_meta['count'] = 1"
   ]
  },
  {
   "cell_type": "code",
   "execution_count": null,
   "metadata": {},
   "outputs": [],
   "source": [
    "# Scale raster stack to surface reflectance values (should be between 0 and 1)\n",
    "all_bands_scaled = all_bands_stack/10000"
   ]
  },
  {
   "cell_type": "code",
   "execution_count": null,
   "metadata": {},
   "outputs": [],
   "source": [
    "# Commented out due to memory issues\n",
    "# # Plot histogram to explore scaled value distribution \n",
    "# fig,ax = plt.subplots()\n",
    "# plt.hist(all_bands_scaled.ravel(), bins='auto');"
   ]
  },
  {
   "cell_type": "code",
   "execution_count": null,
   "metadata": {},
   "outputs": [],
   "source": [
    "# Check for max scaled values \n",
    "# print(all_bands_scaled[7].max(), all_bands_stack[7].max())"
   ]
  },
  {
   "cell_type": "code",
   "execution_count": null,
   "metadata": {},
   "outputs": [],
   "source": [
    "# Commented out due to memory issues\n",
    "#Plot one band to take quick look at image\n",
    "# fig,ax = plt.subplots()\n",
    "# plt.imshow(all_bands_scaled[0])"
   ]
  },
  {
   "cell_type": "code",
   "execution_count": null,
   "metadata": {},
   "outputs": [],
   "source": [
    "# Read in scaled bands\n",
    "coastal_scaled = all_bands_scaled[0]\n",
    "blue_scaled = all_bands_scaled[1]\n",
    "green_scaled = all_bands_scaled[2]\n",
    "yellow_scaled = all_bands_scaled[3]\n",
    "red_scaled = all_bands_scaled[4]\n",
    "rededge_scaled = all_bands_scaled[5]\n",
    "nearir1_scaled = all_bands_scaled[6]\n",
    "nearir2_scaled = all_bands_scaled[7]"
   ]
  },
  {
   "cell_type": "code",
   "execution_count": null,
   "metadata": {},
   "outputs": [],
   "source": [
    "# Calculate cloud mask layer based on Cloud to Street thresholds\n",
    "cloud = ((coastal_scaled >= 0.25) & (rededge_scaled >= 0.25)).astype(int)"
   ]
  },
  {
   "cell_type": "code",
   "execution_count": null,
   "metadata": {},
   "outputs": [],
   "source": [
    "# Trial with opening to get rid of areas identified in cloud mask which are not actually cloud\n",
    "selem = disk(15)\n",
    "cloud_opened = opening(cloud, selem)"
   ]
  },
  {
   "cell_type": "code",
   "execution_count": null,
   "metadata": {},
   "outputs": [],
   "source": [
    "#Plot opened cloud mask\n",
    "fig, ax = plt.subplots(figsize=(12, 8))\n",
    "im = ax.imshow(cloud_opened,\n",
    "               cmap=plt.cm.get_cmap('tab20b', 2))\n",
    "cbar = fig.colorbar(im)\n",
    "cbar.set_ticks((0.25, .75))\n",
    "cbar.ax.set_yticklabels([\"Clear Pixels\", \"Cloud / Shadow Pixels\"])\n",
    "ax.set_title(\"Cloud Mask | Light Purple Pixels will be Masked\")\n",
    "ax.set_axis_off()\n",
    "plt.show()"
   ]
  },
  {
   "cell_type": "code",
   "execution_count": null,
   "metadata": {},
   "outputs": [],
   "source": [
    "# Apply cloud mask to all_bands_scaled stack\n",
    "cloud_mask = np.broadcast_to(cloud_opened == 1, all_bands_scaled.shape)\n",
    "all_bands_cl_free = ma.masked_array(all_bands_scaled,\n",
    "                                      mask=cloud_mask)"
   ]
  },
  {
   "cell_type": "code",
   "execution_count": null,
   "metadata": {},
   "outputs": [],
   "source": [
    "# Define cloud masked scaled bands\n",
    "coastal_cl_free = all_bands_cl_free[0]\n",
    "blue_cl_free = all_bands_cl_free[1]\n",
    "green_cl_free = all_bands_cl_free[2]\n",
    "yellow_cl_free = all_bands_cl_free[3]\n",
    "red_cl_free = all_bands_cl_free[4]\n",
    "rededge_cl_free = all_bands_cl_free[5]\n",
    "nearir1_cl_free = all_bands_cl_free[6]\n",
    "nearir2_cl_free = all_bands_cl_free[7]"
   ]
  },
  {
   "cell_type": "markdown",
   "metadata": {},
   "source": [
    "## Calculate MSI "
   ]
  },
  {
   "cell_type": "code",
   "execution_count": null,
   "metadata": {},
   "outputs": [],
   "source": [
    "# Function for calculating the linear structuring element\n",
    "def selemline(length, theta, dtype=np.uint8):\n",
    "    \"\"\"Line structuring element\"\"\"\n",
    "    theta_d = theta * np.pi / 180\n",
    "    X = int(round((length-1)/2. * np.cos(theta_d)))\n",
    "    Y = int(-round((length-1)/2. * np.sin(theta_d)))\n",
    "    C, R, V = draw.line_aa(-X, -Y, X, Y)\n",
    "    M = 2*max(abs(R)) + 1\n",
    "    N = 2*max(abs(C)) + 1\n",
    "    selem = np.zeros((M, N)).astype(dtype)\n",
    "    selem[R + max(abs(R)), C + max(abs(C))] = 1\n",
    "    return selem"
   ]
  },
  {
   "cell_type": "code",
   "execution_count": null,
   "metadata": {},
   "outputs": [],
   "source": [
    "# Calculate brightness for cloud masked stack\n",
    "brightness2=np.nanmax(all_bands_cl_free, axis=0)\n",
    "# brightness = all_bands_cl_free.max(axis=0)\n",
    "print(np.nanmax(brightness2), np.nanmin(brightness2))"
   ]
  },
  {
   "cell_type": "code",
   "execution_count": null,
   "metadata": {},
   "outputs": [],
   "source": [
    "# Cap brightness values at a max of 1. Replace all values greater than 1 with a value of 1\n",
    "brightness_cap = np.copy(brightness2)\n",
    "# np.place(brightness_cap, brightness_cap > 1, 1)\n",
    "brightness_cap=np.ma.where(brightness2>1,1,brightness2)\n",
    "print(brightness_cap.max(), brightness_cap.min())"
   ]
  },
  {
   "cell_type": "code",
   "execution_count": null,
   "metadata": {},
   "outputs": [],
   "source": [
    "# Plot brightness_cap image\n",
    "fig, ax = plt.subplots(figsize=(20,10))\n",
    "brightness_plot = ax.imshow(brightness_cap, cmap='RdBu',\n",
    "                vmin=0, vmax=1)\n",
    "fig.colorbar(brightness_plot, fraction=.05)\n",
    "ax.set(title=\"Brightness, June 17, 2016\\n\"+aoi+\"\\n\")\n",
    "ax.set_axis_off()\n",
    "plt.show()"
   ]
  },
  {
   "cell_type": "code",
   "execution_count": null,
   "metadata": {
    "scrolled": false
   },
   "outputs": [],
   "source": [
    "# Plot histogram to explore distribution of brightness_cap values\n",
    "fig,ax = plt.subplots()\n",
    "plt.hist(brightness_cap.ravel());"
   ]
  },
  {
   "cell_type": "code",
   "execution_count": null,
   "metadata": {},
   "outputs": [],
   "source": [
    "# Check if you have initialized how you think you meant to\n",
    "# Initialize inputs for MSI calculation \n",
    "selem = selemline(0,0)\n",
    "b_tophat_array_sum = black_tophat(brightness2, selem)"
   ]
  },
  {
   "cell_type": "code",
   "execution_count": null,
   "metadata": {},
   "outputs": [],
   "source": [
    "# Loop and sum black tophat morphological profiles for MSI calculation\n",
    "for i in range(2,57,5):\n",
    "    for x in range(0, 4):\n",
    "        selem = selemline(i,45*x)\n",
    "        b_tophat = black_tophat(brightness2,selem)\n",
    "        b_tophat_array_sum = b_tophat_array_sum.__add__(b_tophat)"
   ]
  },
  {
   "cell_type": "code",
   "execution_count": null,
   "metadata": {},
   "outputs": [],
   "source": [
    "msi = b_tophat_array_sum/(4*11)\n",
    "print(msi.max())"
   ]
  },
  {
   "cell_type": "code",
   "execution_count": null,
   "metadata": {},
   "outputs": [],
   "source": [
    "# Plot histogram to explore distribution of MSI values\n",
    "fig,ax = plt.subplots()\n",
    "plt.hist(msi.ravel());"
   ]
  },
  {
   "cell_type": "code",
   "execution_count": null,
   "metadata": {},
   "outputs": [],
   "source": [
    "# Plot MSI\n",
    "fig, ax = plt.subplots(figsize=(20,10))\n",
    "msi_plot = ax.imshow(msi, cmap='PiYG',\n",
    "                vmin=0, vmax=0.20)\n",
    "fig.colorbar(msi_plot, fraction=0.05)\n",
    "ax.set(title=\"MSI, June 17, 2016\\n\"+aoi+\"\\n\")\n",
    "ax.set_axis_off()\n",
    "plt.show()"
   ]
  },
  {
   "cell_type": "code",
   "execution_count": null,
   "metadata": {},
   "outputs": [],
   "source": [
    "# Develop shadow mask for MSI > 0.12 and apply morphological opening\n",
    "shadow = (msi>=0.12).astype(int)\n",
    "selem_shadow = disk(4)\n",
    "shadow_opened = opening(shadow, selem_shadow)"
   ]
  },
  {
   "cell_type": "code",
   "execution_count": null,
   "metadata": {},
   "outputs": [],
   "source": [
    "# Plot shadow mask layer \n",
    "fig, ax = plt.subplots(figsize=(20,10))\n",
    "test_plot = ax.imshow(shadow_opened, cmap='Oranges',\n",
    "                vmin=0, vmax=1)\n",
    "fig.colorbar(test_plot, fraction=.05)\n",
    "ax.set(title=\"MSI Shadow Mask, June 17, 2016\\n\"+aoi+\"\\n\")\n",
    "ax.set_axis_off()\n",
    "plt.show()"
   ]
  },
  {
   "cell_type": "code",
   "execution_count": null,
   "metadata": {},
   "outputs": [],
   "source": [
    "# with rio.open(outputs_path+'msi_shadow_mask_'+aoi+'.tif', 'w', **masks_out_meta) as dst:\n",
    "#     dst.write(shadow_opened, 1)"
   ]
  },
  {
   "cell_type": "markdown",
   "metadata": {},
   "source": [
    "# Calculate \"optimal\" NDWI values"
   ]
  },
  {
   "cell_type": "code",
   "execution_count": null,
   "metadata": {},
   "outputs": [],
   "source": [
    "# Calculate two \"optimal\" NDWIs from Xie et al. (2016) paper\n",
    "ndwi_coastal = es.normalized_diff(b1=coastal_cl_free, b2 = nearir2_cl_free)\n",
    "ndwi_green = es.normalized_diff(b1=green_cl_free, b2 = nearir2_cl_free)\n",
    "# Subtract MSI from NDWI optimal\n",
    "ndwi_coastal_msi = ndwi_coastal - msi\n",
    "ndwi_green_msi = ndwi_green - msi"
   ]
  },
  {
   "cell_type": "code",
   "execution_count": null,
   "metadata": {},
   "outputs": [],
   "source": [
    "# Compare plots for NDWI_Coastal and NDWI_Green \n",
    "fig, (ax1, ax2) = plt.subplots(1, 2, figsize=(20, 10))\n",
    "\n",
    "plt.suptitle('NDWI_Coastal and NDWI_Green n June 17, 2016\\n'+aoi, fontsize=16)\n",
    "\n",
    "ndwi_coastal_plot = ax1.imshow(ndwi_coastal, cmap = 'Blues', vmin = -1, vmax = 1)\n",
    "ax1.set(title=\"NDWI_Coastal_NIR2\\n\")\n",
    "ax1.set_axis_off()\n",
    "\n",
    "ndwi_green_plot = ax2.imshow(ndwi_green, cmap = 'Blues', vmin = -1, vmax = 1)\n",
    "ax2.set(title=\"NDWI_Green_NIR2\\n\")\n",
    "ax2.set_axis_off()\n",
    "\n",
    "fig.colorbar(ndwi_coastal_plot, fraction=.05)\n",
    "plt.show()"
   ]
  },
  {
   "cell_type": "code",
   "execution_count": null,
   "metadata": {},
   "outputs": [],
   "source": [
    "# Compare plots for NDWI_Coastal - MSI and NDWI_Green - MSI\n",
    "fig, (ax1, ax2) = plt.subplots(1, 2, figsize=(20, 10))\n",
    "\n",
    "plt.suptitle('NDWI_Coastal - MSI and NDWI_Green - MSI\\n June 17, 2016\\n'+aoi, fontsize=16)\n",
    "\n",
    "ndwi_coastal_plot = ax1.imshow(ndwi_coastal_msi, cmap = 'Blues', vmin = -1, vmax = 1)\n",
    "ax1.set(title=\"NDWI_Coastal - MSI\\n\")\n",
    "ax1.set_axis_off()\n",
    "\n",
    "ndwi_green_plot = ax2.imshow(ndwi_green_msi, cmap = 'Blues', vmin = -1, vmax = 1)\n",
    "ax2.set(title=\"NDWI_Green - MSI\\n\")\n",
    "ax2.set_axis_off()\n",
    "\n",
    "fig.colorbar(ndwi_coastal_plot, fraction=.05)\n",
    "plt.show()"
   ]
  },
  {
   "cell_type": "code",
   "execution_count": null,
   "metadata": {},
   "outputs": [],
   "source": [
    "# Calculate mask for ndwi-msi \n",
    "ndwi_coastal_msi_mask = (ndwi_coastal_msi>0.15).astype(int)\n",
    "ndwi_green_msi_mask = (ndwi_green_msi>0.15).astype(int)"
   ]
  },
  {
   "cell_type": "code",
   "execution_count": null,
   "metadata": {},
   "outputs": [],
   "source": [
    "# Compare plots for NDWI_Coastal - MSI and NDWI_Green - MSI masks\n",
    "fig, (ax1, ax2) = plt.subplots(1, 2, figsize=(20, 10))\n",
    "\n",
    "plt.suptitle('NDWI_Coastal - MSI and NDWI_Green - MSI Flood Masks\\n June 17, 2016\\n'+aoi, fontsize=16)\n",
    "\n",
    "ndwi_coastal_mask_plot = ax1.imshow(ndwi_coastal_msi_mask, cmap = 'Blues', vmin = 0, vmax = 1)\n",
    "ax1.set(title=\"NDWI_Coastal - MSI Flood Mask\\n\")\n",
    "ax1.set_axis_off()\n",
    "\n",
    "ndwi_green_mask_plot = ax2.imshow(ndwi_green_msi_mask, cmap = 'Blues', vmin = 0, vmax = 1)\n",
    "ax2.set(title=\"NDWI_Green - MSI Flood Mask\\n\")\n",
    "ax2.set_axis_off()\n",
    "\n",
    "fig.colorbar(ndwi_coastal_mask_plot, fraction=.05)\n",
    "plt.show()"
   ]
  }
 ],
 "metadata": {
  "kernelspec": {
   "display_name": "Python 3",
   "language": "python",
   "name": "python3"
  },
  "language_info": {
   "codemirror_mode": {
    "name": "ipython",
    "version": 3
   },
   "file_extension": ".py",
   "mimetype": "text/x-python",
   "name": "python",
   "nbconvert_exporter": "python",
   "pygments_lexer": "ipython3",
   "version": "3.6.6"
  }
 },
 "nbformat": 4,
 "nbformat_minor": 2
}
