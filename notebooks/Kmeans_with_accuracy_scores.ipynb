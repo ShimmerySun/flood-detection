{
 "cells": [
  {
   "cell_type": "markdown",
   "metadata": {},
   "source": [
    "Validation on kmeans"
   ]
  },
  {
   "cell_type": "markdown",
   "metadata": {},
   "source": [
    "### Think through  how to better handle indexing and merging pd_df challenges"
   ]
  },
  {
   "cell_type": "markdown",
   "metadata": {},
   "source": [
    "This notebook validates using the 60% validation Koumassi dataset (n=604 points)"
   ]
  },
  {
   "cell_type": "markdown",
   "metadata": {},
   "source": [
    "This is a working notebook to label 8 cluster kmeans result. The labeled map is sampled using the 60% subset of validation samples to identify characteristics of each class (floodwater, shadow, other)\n",
    "\n",
    "Currently working on trying to separate flood and shadow areas based on perimeter and area characteristics."
   ]
  },
  {
   "cell_type": "code",
   "execution_count": 1,
   "metadata": {},
   "outputs": [],
   "source": [
    "# Import packages\n",
    "import os, sys\n",
    "import numpy as np\n",
    "import geopandas as gpd\n",
    "from matplotlib import pyplot as plt\n",
    "import pandas as pd\n",
    "from glob import glob\n",
    "import rasterio as rio\n",
    "import earthpy.spatial as es\n",
    "import earthpy.plot as ep\n",
    "import earthpy as et\n",
    "from skimage import measure\n",
    "from skimage import morphology\n",
    "from sklearn.metrics import accuracy_score\n",
    "from sklearn.metrics import confusion_matrix\n",
    "\n",
    "%matplotlib inline"
   ]
  },
  {
   "cell_type": "code",
   "execution_count": 2,
   "metadata": {},
   "outputs": [],
   "source": [
    "# Set working directory\n",
    "# os.chdir(os.path.join(et.io.HOME, 'earth-analytics','spring-2019', 'flood-detection'))\n",
    "os.environ[\"PROJ_LIB\"] = r\"C:\\Users\\katy\\Anaconda3\\envs\\earth-analytics-python\\Library\\share\""
   ]
  },
  {
   "cell_type": "code",
   "execution_count": 3,
   "metadata": {},
   "outputs": [],
   "source": [
    "# Set directory to area of interest containing raster stack\n",
    "aoi = \"koumassi_focus_ps\"\n",
    "kmeans_file =\"kmeans_with_shadow_mask\"\n",
    "band_path = '..\\\\data\\\\'+aoi+\"\\\\\"\n",
    "raster_outputs_path = os.path.join(band_path, \"outputs\\\\raster_files\\\\\")\n",
    "kmeans_outputs_path = os.path.join(band_path, \"outputs\\\\kmeans\\\\\")\n",
    "kmeans_path = os.path.join(band_path, \"outputs\\\\kmeans\\\\\"+kmeans_file+\".tif\")\n",
    "\n",
    "# Open existing raster stack\n",
    "# band_path = os.path.join(\"dg-data\", aoi +\"\\\\\")\n",
    "# band_stack_path = os.path.join(band_path, \"outputs\\\\indices_and_mask_files\\\\\")\n",
    "# all_bands_path = os.path.join(band_stack_path, aoi + \"_all_bands.tif\")\n",
    "# outputs_path = os.path.join(\"dg-data\", aoi ,\"outputs\", \"raster_files\\\\\")\n",
    "# kmeans_path = outputs_path+\"kmeans_koumassi_focus_ps.tif\"\n",
    "# kmeans_path = outputs_path+\"kmeans_with_shadow_mask.tif\"\n",
    "# cluster_path = os.path.join(\"dg-data\",aoi,\"outputs\",\"clustering\",\"kmeans\")\n",
    "# validation_data_path = os.path.join(\"validation\")\n",
    "# valid_data = pd.read_csv(valid_data_path+\"\\\\\"+\"koumassi_validation_data_60_percent.csv\")\n",
    "# sample_pts_path = os.path.join(\"validation\",\"vector-data\")\n",
    "# sample_pts = gpd.read_file(sample_pts_path+\"\\\\\"+\"validation_points_koumassi_60_percent.shp\")\n",
    "\n",
    "validation_data_path = os.path.join(band_path,'validation\\\\')\n",
    "sample_pts_60perc = gpd.read_file(validation_data_path+\"vector-data\\\\validation_points_koumassi_60_percent.shp\")\n",
    "sample_pts_40perc = gpd.read_file(validation_data_path+\"vector-data\\\\validation_points_koumassi_40_percent.shp\")\n",
    "sample_pts_all = gpd.read_file(validation_data_path+\"vector-data\\\\\"+\"all_koumassi_validation_points.shp\")\n",
    "\n",
    "valid_60_data = pd.read_csv(validation_data_path+\"koumassi_validation_data_60_percent.csv\")\n",
    "valid_40_data = pd.read_csv(validation_data_path+\"koumassi_validation_data_40_percent.csv\")\n",
    "all_valid_data = pd.read_csv(validation_data_path+\"all_koumassi_validation_data.csv\")"
   ]
  },
  {
   "cell_type": "code",
   "execution_count": 4,
   "metadata": {},
   "outputs": [],
   "source": [
    "# Update these based on looking at what each cluster represents\n",
    "class8 = 2\n",
    "class7 = 3 # used 1 here for shadow_build\n",
    "class6 = 3\n",
    "class5 = 1\n",
    "class4 = 3\n",
    "class3 = 1 # see what validates better 1 or 2\n",
    "class2 = 3 # choose 1 or 2 for 010\n",
    "class1 = 3"
   ]
  },
  {
   "cell_type": "code",
   "execution_count": 5,
   "metadata": {},
   "outputs": [
    {
     "data": {
      "text/html": [
       "<div>\n",
       "<style scoped>\n",
       "    .dataframe tbody tr th:only-of-type {\n",
       "        vertical-align: middle;\n",
       "    }\n",
       "\n",
       "    .dataframe tbody tr th {\n",
       "        vertical-align: top;\n",
       "    }\n",
       "\n",
       "    .dataframe thead th {\n",
       "        text-align: right;\n",
       "    }\n",
       "</style>\n",
       "<table border=\"1\" class=\"dataframe\">\n",
       "  <thead>\n",
       "    <tr style=\"text-align: right;\">\n",
       "      <th></th>\n",
       "      <th>OBJECTID</th>\n",
       "      <th>ClassValue</th>\n",
       "    </tr>\n",
       "  </thead>\n",
       "  <tbody>\n",
       "    <tr>\n",
       "      <th>0</th>\n",
       "      <td>1</td>\n",
       "      <td>2</td>\n",
       "    </tr>\n",
       "    <tr>\n",
       "      <th>1</th>\n",
       "      <td>2</td>\n",
       "      <td>1</td>\n",
       "    </tr>\n",
       "    <tr>\n",
       "      <th>2</th>\n",
       "      <td>3</td>\n",
       "      <td>1</td>\n",
       "    </tr>\n",
       "    <tr>\n",
       "      <th>3</th>\n",
       "      <td>4</td>\n",
       "      <td>1</td>\n",
       "    </tr>\n",
       "    <tr>\n",
       "      <th>4</th>\n",
       "      <td>5</td>\n",
       "      <td>1</td>\n",
       "    </tr>\n",
       "  </tbody>\n",
       "</table>\n",
       "</div>"
      ],
      "text/plain": [
       "   OBJECTID  ClassValue\n",
       "0         1           2\n",
       "1         2           1\n",
       "2         3           1\n",
       "3         4           1\n",
       "4         5           1"
      ]
     },
     "execution_count": 5,
     "metadata": {},
     "output_type": "execute_result"
    }
   ],
   "source": [
    "valid_60_data.head()"
   ]
  },
  {
   "cell_type": "markdown",
   "metadata": {},
   "source": [
    "## Validating on 60% of data"
   ]
  },
  {
   "cell_type": "code",
   "execution_count": 6,
   "metadata": {},
   "outputs": [],
   "source": [
    "# Create tuples of all x coordinates and y coordinates \n",
    "x_coords = tuple(sample_pts_60perc.geometry.x)\n",
    "y_coords = tuple(sample_pts_60perc.geometry.y)\n",
    "# Use rasterio sample method to pull label numbers for 60% reference dataset. \n",
    "# kmeans_labeled_path = kmeans_outputs_path+kmeans_file+'_labeled.tif'\n",
    "# Sample from labeled map (kmeans_labels)\n",
    "sampled_values = []\n",
    "\n",
    "# Sample raster at each combo of x and y coordinates\n",
    "with rio.open(kmeans_path) as src:\n",
    "#     src = np.squeeze(src)\n",
    "    for val in src.sample(zip(x_coords, y_coords)):\n",
    "        \n",
    "        # Note that each val is an individual numpy array\n",
    "        #print(val.shape)\n",
    "        sampled_values.append(val)\n",
    "        \n",
    "# Convert list to one-dimensional array\n",
    "arr = np.array([sampled_values]).squeeze()\n",
    "# print(arr)\n",
    "\n",
    "# Convert array to dataframe\n",
    "kmeans_60_df = pd.DataFrame(arr)\n",
    "# kmeans_60_df.head()"
   ]
  },
  {
   "cell_type": "code",
   "execution_count": 7,
   "metadata": {},
   "outputs": [
    {
     "data": {
      "text/html": [
       "<div>\n",
       "<style scoped>\n",
       "    .dataframe tbody tr th:only-of-type {\n",
       "        vertical-align: middle;\n",
       "    }\n",
       "\n",
       "    .dataframe tbody tr th {\n",
       "        vertical-align: top;\n",
       "    }\n",
       "\n",
       "    .dataframe thead th {\n",
       "        text-align: right;\n",
       "    }\n",
       "</style>\n",
       "<table border=\"1\" class=\"dataframe\">\n",
       "  <thead>\n",
       "    <tr style=\"text-align: right;\">\n",
       "      <th></th>\n",
       "      <th>OBJECTID</th>\n",
       "      <th>ClassValue</th>\n",
       "      <th>Kmeans_Cluster</th>\n",
       "    </tr>\n",
       "  </thead>\n",
       "  <tbody>\n",
       "    <tr>\n",
       "      <th>0</th>\n",
       "      <td>1</td>\n",
       "      <td>2</td>\n",
       "      <td>3.0</td>\n",
       "    </tr>\n",
       "    <tr>\n",
       "      <th>1</th>\n",
       "      <td>2</td>\n",
       "      <td>1</td>\n",
       "      <td>5.0</td>\n",
       "    </tr>\n",
       "    <tr>\n",
       "      <th>2</th>\n",
       "      <td>3</td>\n",
       "      <td>1</td>\n",
       "      <td>3.0</td>\n",
       "    </tr>\n",
       "    <tr>\n",
       "      <th>3</th>\n",
       "      <td>4</td>\n",
       "      <td>1</td>\n",
       "      <td>3.0</td>\n",
       "    </tr>\n",
       "    <tr>\n",
       "      <th>4</th>\n",
       "      <td>5</td>\n",
       "      <td>1</td>\n",
       "      <td>5.0</td>\n",
       "    </tr>\n",
       "  </tbody>\n",
       "</table>\n",
       "</div>"
      ],
      "text/plain": [
       "   OBJECTID  ClassValue  Kmeans_Cluster\n",
       "0         1           2             3.0\n",
       "1         2           1             5.0\n",
       "2         3           1             3.0\n",
       "3         4           1             3.0\n",
       "4         5           1             5.0"
      ]
     },
     "execution_count": 7,
     "metadata": {},
     "output_type": "execute_result"
    }
   ],
   "source": [
    "kmeans_valid = pd.concat([valid_60_data,kmeans_60_df], axis=1, sort=False)\n",
    "kmeans_valid.columns=[\"OBJECTID\",\"ClassValue\",\"Kmeans_Cluster\"]\n",
    "kmeans_valid.head()"
   ]
  },
  {
   "cell_type": "code",
   "execution_count": 8,
   "metadata": {},
   "outputs": [
    {
     "data": {
      "text/html": [
       "<div>\n",
       "<style scoped>\n",
       "    .dataframe tbody tr th:only-of-type {\n",
       "        vertical-align: middle;\n",
       "    }\n",
       "\n",
       "    .dataframe tbody tr th {\n",
       "        vertical-align: top;\n",
       "    }\n",
       "\n",
       "    .dataframe thead th {\n",
       "        text-align: right;\n",
       "    }\n",
       "</style>\n",
       "<table border=\"1\" class=\"dataframe\">\n",
       "  <thead>\n",
       "    <tr style=\"text-align: right;\">\n",
       "      <th></th>\n",
       "      <th>OBJECTID</th>\n",
       "      <th>ClassValue</th>\n",
       "      <th>Kmeans_Cluster</th>\n",
       "      <th>new</th>\n",
       "    </tr>\n",
       "  </thead>\n",
       "  <tbody>\n",
       "    <tr>\n",
       "      <th>0</th>\n",
       "      <td>1</td>\n",
       "      <td>2</td>\n",
       "      <td>3.0</td>\n",
       "      <td>1.0</td>\n",
       "    </tr>\n",
       "    <tr>\n",
       "      <th>1</th>\n",
       "      <td>2</td>\n",
       "      <td>1</td>\n",
       "      <td>5.0</td>\n",
       "      <td>1.0</td>\n",
       "    </tr>\n",
       "    <tr>\n",
       "      <th>2</th>\n",
       "      <td>3</td>\n",
       "      <td>1</td>\n",
       "      <td>3.0</td>\n",
       "      <td>1.0</td>\n",
       "    </tr>\n",
       "    <tr>\n",
       "      <th>3</th>\n",
       "      <td>4</td>\n",
       "      <td>1</td>\n",
       "      <td>3.0</td>\n",
       "      <td>1.0</td>\n",
       "    </tr>\n",
       "    <tr>\n",
       "      <th>4</th>\n",
       "      <td>5</td>\n",
       "      <td>1</td>\n",
       "      <td>5.0</td>\n",
       "      <td>1.0</td>\n",
       "    </tr>\n",
       "  </tbody>\n",
       "</table>\n",
       "</div>"
      ],
      "text/plain": [
       "   OBJECTID  ClassValue  Kmeans_Cluster  new\n",
       "0         1           2             3.0  1.0\n",
       "1         2           1             5.0  1.0\n",
       "2         3           1             3.0  1.0\n",
       "3         4           1             3.0  1.0\n",
       "4         5           1             5.0  1.0"
      ]
     },
     "execution_count": 8,
     "metadata": {},
     "output_type": "execute_result"
    }
   ],
   "source": [
    "kmeans_valid.loc[kmeans_valid['Kmeans_Cluster'] == 8.0,\"new\"] = class8\n",
    "kmeans_valid.loc[kmeans_valid['Kmeans_Cluster'] == 7.0,\"new\"] = class7\n",
    "kmeans_valid.loc[kmeans_valid['Kmeans_Cluster'] == 6.0,\"new\"] = class6\n",
    "kmeans_valid.loc[kmeans_valid['Kmeans_Cluster'] == 5.0,\"new\"] = class5\n",
    "kmeans_valid.loc[kmeans_valid['Kmeans_Cluster'] == 4.0,\"new\"] = class4\n",
    "kmeans_valid.loc[kmeans_valid['Kmeans_Cluster'] == 3.0,\"new\"] = class3\n",
    "kmeans_valid.loc[kmeans_valid['Kmeans_Cluster'] == 2.0,\"new\"] = class2\n",
    "kmeans_valid.loc[kmeans_valid['Kmeans_Cluster'] == 1.0,\"new\"] = class1\n",
    "kmeans_valid.head()"
   ]
  },
  {
   "cell_type": "code",
   "execution_count": 9,
   "metadata": {},
   "outputs": [
    {
     "data": {
      "text/plain": [
       "0.8311258278145696"
      ]
     },
     "execution_count": 9,
     "metadata": {},
     "output_type": "execute_result"
    }
   ],
   "source": [
    "ytest = kmeans_valid['ClassValue']\n",
    "ypred = kmeans_valid['new']\n",
    "accuracy_score(ytest, ypred)"
   ]
  },
  {
   "cell_type": "code",
   "execution_count": 10,
   "metadata": {},
   "outputs": [
    {
     "name": "stdout",
     "output_type": "stream",
     "text": [
      "[[275  38   0]\n",
      " [ 54 102   4]\n",
      " [  0   6 125]]\n"
     ]
    },
    {
     "data": {
      "image/png": "[encoded data removed]",
      "text/plain": [
       "<Figure size 432x288 with 2 Axes>"
      ]
     },
     "metadata": {
      "needs_background": "light"
     },
     "output_type": "display_data"
    }
   ],
   "source": [
    "#Print confusion matrix for linear kernel SVM\n",
    "print(confusion_matrix(ytest, ypred))\n",
    "\n",
    "plt.imshow(confusion_matrix(ytest, ypred),\n",
    "           cmap='Blues', interpolation='nearest')\n",
    "plt.colorbar()\n",
    "plt.grid(False)\n",
    "plt.ylabel('true')\n",
    "plt.xlabel('predicted');"
   ]
  },
  {
   "cell_type": "markdown",
   "metadata": {},
   "source": [
    "## Validating on 40% of data"
   ]
  },
  {
   "cell_type": "code",
   "execution_count": 11,
   "metadata": {},
   "outputs": [],
   "source": [
    "# Create tuples of all x coordinates and y coordinates \n",
    "x_coords = tuple(sample_pts_40perc.geometry.x)\n",
    "y_coords = tuple(sample_pts_40perc.geometry.y)\n",
    "# Use rasterio sample method to pull label numbers for 60% reference dataset. \n",
    "# kmeans_labeled_path = kmeans_outputs_path+kmeans_file+'_labeled.tif'\n",
    "# Sample from labeled map (kmeans_labels)\n",
    "sampled_values = []\n",
    "\n",
    "# Sample raster at each combo of x and y coordinates\n",
    "with rio.open(kmeans_path) as src:\n",
    "#     src = np.squeeze(src)\n",
    "    for val in src.sample(zip(x_coords, y_coords)):\n",
    "        \n",
    "        # Note that each val is an individual numpy array\n",
    "        #print(val.shape)\n",
    "        sampled_values.append(val)\n",
    "        \n",
    "# Convert list to one-dimensional array\n",
    "arr = np.array([sampled_values]).squeeze()\n",
    "# print(arr)\n",
    "\n",
    "# Convert array to dataframe\n",
    "kmeans_40_df = pd.DataFrame(arr)\n",
    "# kmeans_40_df.head()"
   ]
  },
  {
   "cell_type": "code",
   "execution_count": 12,
   "metadata": {},
   "outputs": [
    {
     "data": {
      "text/html": [
       "<div>\n",
       "<style scoped>\n",
       "    .dataframe tbody tr th:only-of-type {\n",
       "        vertical-align: middle;\n",
       "    }\n",
       "\n",
       "    .dataframe tbody tr th {\n",
       "        vertical-align: top;\n",
       "    }\n",
       "\n",
       "    .dataframe thead th {\n",
       "        text-align: right;\n",
       "    }\n",
       "</style>\n",
       "<table border=\"1\" class=\"dataframe\">\n",
       "  <thead>\n",
       "    <tr style=\"text-align: right;\">\n",
       "      <th></th>\n",
       "      <th>OBJECTID</th>\n",
       "      <th>ClassValue</th>\n",
       "      <th>Kmeans_Cluster</th>\n",
       "    </tr>\n",
       "  </thead>\n",
       "  <tbody>\n",
       "    <tr>\n",
       "      <th>0</th>\n",
       "      <td>1</td>\n",
       "      <td>2</td>\n",
       "      <td>3.0</td>\n",
       "    </tr>\n",
       "    <tr>\n",
       "      <th>1</th>\n",
       "      <td>2</td>\n",
       "      <td>1</td>\n",
       "      <td>3.0</td>\n",
       "    </tr>\n",
       "    <tr>\n",
       "      <th>2</th>\n",
       "      <td>3</td>\n",
       "      <td>1</td>\n",
       "      <td>3.0</td>\n",
       "    </tr>\n",
       "    <tr>\n",
       "      <th>3</th>\n",
       "      <td>4</td>\n",
       "      <td>1</td>\n",
       "      <td>5.0</td>\n",
       "    </tr>\n",
       "    <tr>\n",
       "      <th>4</th>\n",
       "      <td>5</td>\n",
       "      <td>1</td>\n",
       "      <td>5.0</td>\n",
       "    </tr>\n",
       "  </tbody>\n",
       "</table>\n",
       "</div>"
      ],
      "text/plain": [
       "   OBJECTID  ClassValue  Kmeans_Cluster\n",
       "0         1           2             3.0\n",
       "1         2           1             3.0\n",
       "2         3           1             3.0\n",
       "3         4           1             5.0\n",
       "4         5           1             5.0"
      ]
     },
     "execution_count": 12,
     "metadata": {},
     "output_type": "execute_result"
    }
   ],
   "source": [
    "kmeans_valid_40 = pd.concat([valid_40_data,kmeans_40_df], axis=1, sort=False)\n",
    "kmeans_valid_40.columns=[\"OBJECTID\",\"ClassValue\",\"Kmeans_Cluster\"]\n",
    "kmeans_valid_40.head()"
   ]
  },
  {
   "cell_type": "code",
   "execution_count": 13,
   "metadata": {},
   "outputs": [
    {
     "data": {
      "text/html": [
       "<div>\n",
       "<style scoped>\n",
       "    .dataframe tbody tr th:only-of-type {\n",
       "        vertical-align: middle;\n",
       "    }\n",
       "\n",
       "    .dataframe tbody tr th {\n",
       "        vertical-align: top;\n",
       "    }\n",
       "\n",
       "    .dataframe thead th {\n",
       "        text-align: right;\n",
       "    }\n",
       "</style>\n",
       "<table border=\"1\" class=\"dataframe\">\n",
       "  <thead>\n",
       "    <tr style=\"text-align: right;\">\n",
       "      <th></th>\n",
       "      <th>OBJECTID</th>\n",
       "      <th>ClassValue</th>\n",
       "      <th>Kmeans_Cluster</th>\n",
       "      <th>new</th>\n",
       "    </tr>\n",
       "  </thead>\n",
       "  <tbody>\n",
       "    <tr>\n",
       "      <th>0</th>\n",
       "      <td>1</td>\n",
       "      <td>2</td>\n",
       "      <td>3.0</td>\n",
       "      <td>1.0</td>\n",
       "    </tr>\n",
       "    <tr>\n",
       "      <th>1</th>\n",
       "      <td>2</td>\n",
       "      <td>1</td>\n",
       "      <td>3.0</td>\n",
       "      <td>1.0</td>\n",
       "    </tr>\n",
       "    <tr>\n",
       "      <th>2</th>\n",
       "      <td>3</td>\n",
       "      <td>1</td>\n",
       "      <td>3.0</td>\n",
       "      <td>1.0</td>\n",
       "    </tr>\n",
       "    <tr>\n",
       "      <th>3</th>\n",
       "      <td>4</td>\n",
       "      <td>1</td>\n",
       "      <td>5.0</td>\n",
       "      <td>1.0</td>\n",
       "    </tr>\n",
       "    <tr>\n",
       "      <th>4</th>\n",
       "      <td>5</td>\n",
       "      <td>1</td>\n",
       "      <td>5.0</td>\n",
       "      <td>1.0</td>\n",
       "    </tr>\n",
       "  </tbody>\n",
       "</table>\n",
       "</div>"
      ],
      "text/plain": [
       "   OBJECTID  ClassValue  Kmeans_Cluster  new\n",
       "0         1           2             3.0  1.0\n",
       "1         2           1             3.0  1.0\n",
       "2         3           1             3.0  1.0\n",
       "3         4           1             5.0  1.0\n",
       "4         5           1             5.0  1.0"
      ]
     },
     "execution_count": 13,
     "metadata": {},
     "output_type": "execute_result"
    }
   ],
   "source": [
    "kmeans_valid_40.loc[kmeans_valid_40['Kmeans_Cluster'] == 8.0,\"new\"] = class8\n",
    "kmeans_valid_40.loc[kmeans_valid_40['Kmeans_Cluster'] == 7.0,\"new\"] = class7\n",
    "kmeans_valid_40.loc[kmeans_valid_40['Kmeans_Cluster'] == 6.0,\"new\"] = class6\n",
    "kmeans_valid_40.loc[kmeans_valid_40['Kmeans_Cluster'] == 5.0,\"new\"] = class5\n",
    "kmeans_valid_40.loc[kmeans_valid_40['Kmeans_Cluster'] == 4.0,\"new\"] = class4\n",
    "kmeans_valid_40.loc[kmeans_valid_40['Kmeans_Cluster'] == 3.0,\"new\"] = class3\n",
    "kmeans_valid_40.loc[kmeans_valid_40['Kmeans_Cluster'] == 2.0,\"new\"] = class2\n",
    "kmeans_valid_40.loc[kmeans_valid_40['Kmeans_Cluster'] == 1.0,\"new\"] = class1\n",
    "kmeans_valid_40.head()"
   ]
  },
  {
   "cell_type": "code",
   "execution_count": 14,
   "metadata": {},
   "outputs": [
    {
     "data": {
      "text/plain": [
       "0.8436724565756824"
      ]
     },
     "execution_count": 14,
     "metadata": {},
     "output_type": "execute_result"
    }
   ],
   "source": [
    "ytest = kmeans_valid_40['ClassValue']\n",
    "ypred = kmeans_valid_40['new']\n",
    "accuracy_score(ytest, ypred)"
   ]
  },
  {
   "cell_type": "code",
   "execution_count": 15,
   "metadata": {},
   "outputs": [
    {
     "name": "stdout",
     "output_type": "stream",
     "text": [
      "[[180  29   0]\n",
      " [ 32  84   0]\n",
      " [  0   2  76]]\n"
     ]
    },
    {
     "data": {
      "image/png": "[encoded data removed]",
      "text/plain": [
       "<Figure size 432x288 with 2 Axes>"
      ]
     },
     "metadata": {
      "needs_background": "light"
     },
     "output_type": "display_data"
    }
   ],
   "source": [
    "#Print confusion matrix for linear kernel SVM\n",
    "print(confusion_matrix(ytest, ypred))\n",
    "\n",
    "plt.imshow(confusion_matrix(ytest, ypred),\n",
    "           cmap='Blues', interpolation='nearest')\n",
    "plt.colorbar()\n",
    "plt.grid(False)\n",
    "plt.ylabel('true')\n",
    "plt.xlabel('predicted');"
   ]
  },
  {
   "cell_type": "markdown",
   "metadata": {},
   "source": [
    "## Validating on complete reference dataset"
   ]
  },
  {
   "cell_type": "code",
   "execution_count": 16,
   "metadata": {},
   "outputs": [
    {
     "data": {
      "text/html": [
       "<div>\n",
       "<style scoped>\n",
       "    .dataframe tbody tr th:only-of-type {\n",
       "        vertical-align: middle;\n",
       "    }\n",
       "\n",
       "    .dataframe tbody tr th {\n",
       "        vertical-align: top;\n",
       "    }\n",
       "\n",
       "    .dataframe thead th {\n",
       "        text-align: right;\n",
       "    }\n",
       "</style>\n",
       "<table border=\"1\" class=\"dataframe\">\n",
       "  <thead>\n",
       "    <tr style=\"text-align: right;\">\n",
       "      <th></th>\n",
       "      <th>0</th>\n",
       "    </tr>\n",
       "  </thead>\n",
       "  <tbody>\n",
       "    <tr>\n",
       "      <th>0</th>\n",
       "      <td>3.0</td>\n",
       "    </tr>\n",
       "    <tr>\n",
       "      <th>1</th>\n",
       "      <td>3.0</td>\n",
       "    </tr>\n",
       "    <tr>\n",
       "      <th>2</th>\n",
       "      <td>3.0</td>\n",
       "    </tr>\n",
       "    <tr>\n",
       "      <th>3</th>\n",
       "      <td>5.0</td>\n",
       "    </tr>\n",
       "    <tr>\n",
       "      <th>4</th>\n",
       "      <td>3.0</td>\n",
       "    </tr>\n",
       "  </tbody>\n",
       "</table>\n",
       "</div>"
      ],
      "text/plain": [
       "     0\n",
       "0  3.0\n",
       "1  3.0\n",
       "2  3.0\n",
       "3  5.0\n",
       "4  3.0"
      ]
     },
     "execution_count": 16,
     "metadata": {},
     "output_type": "execute_result"
    }
   ],
   "source": [
    "# Create tuples of all x coordinates and y coordinates \n",
    "x_coords = tuple(sample_pts_all.geometry.x)\n",
    "y_coords = tuple(sample_pts_all.geometry.y)\n",
    "# Use rasterio sample method to pull label numbers for 60% reference dataset. \n",
    "# kmeans_labeled_path = kmeans_outputs_path+kmeans_file+'_labeled.tif'\n",
    "# Sample from labeled map (kmeans_labels)\n",
    "sampled_values = []\n",
    "\n",
    "# Sample raster at each combo of x and y coordinates\n",
    "with rio.open(kmeans_path) as src:\n",
    "#     src = np.squeeze(src)\n",
    "    for val in src.sample(zip(x_coords, y_coords)):\n",
    "        \n",
    "        # Note that each val is an individual numpy array\n",
    "        #print(val.shape)\n",
    "        sampled_values.append(val)\n",
    "        \n",
    "# Convert list to one-dimensional array\n",
    "arr = np.array([sampled_values]).squeeze()\n",
    "# print(arr)\n",
    "\n",
    "# Convert array to dataframe\n",
    "kmeans_all_df = pd.DataFrame(arr)\n",
    "kmeans_all_df.head()"
   ]
  },
  {
   "cell_type": "code",
   "execution_count": 17,
   "metadata": {},
   "outputs": [
    {
     "data": {
      "text/html": [
       "<div>\n",
       "<style scoped>\n",
       "    .dataframe tbody tr th:only-of-type {\n",
       "        vertical-align: middle;\n",
       "    }\n",
       "\n",
       "    .dataframe tbody tr th {\n",
       "        vertical-align: top;\n",
       "    }\n",
       "\n",
       "    .dataframe thead th {\n",
       "        text-align: right;\n",
       "    }\n",
       "</style>\n",
       "<table border=\"1\" class=\"dataframe\">\n",
       "  <thead>\n",
       "    <tr style=\"text-align: right;\">\n",
       "      <th></th>\n",
       "      <th>OBJECTID</th>\n",
       "      <th>ClassValue</th>\n",
       "      <th>Kmeans_Cluster</th>\n",
       "    </tr>\n",
       "  </thead>\n",
       "  <tbody>\n",
       "    <tr>\n",
       "      <th>0</th>\n",
       "      <td>1</td>\n",
       "      <td>2</td>\n",
       "      <td>3.0</td>\n",
       "    </tr>\n",
       "    <tr>\n",
       "      <th>1</th>\n",
       "      <td>2</td>\n",
       "      <td>2</td>\n",
       "      <td>3.0</td>\n",
       "    </tr>\n",
       "    <tr>\n",
       "      <th>2</th>\n",
       "      <td>3</td>\n",
       "      <td>1</td>\n",
       "      <td>3.0</td>\n",
       "    </tr>\n",
       "    <tr>\n",
       "      <th>3</th>\n",
       "      <td>4</td>\n",
       "      <td>1</td>\n",
       "      <td>5.0</td>\n",
       "    </tr>\n",
       "    <tr>\n",
       "      <th>4</th>\n",
       "      <td>5</td>\n",
       "      <td>1</td>\n",
       "      <td>3.0</td>\n",
       "    </tr>\n",
       "  </tbody>\n",
       "</table>\n",
       "</div>"
      ],
      "text/plain": [
       "   OBJECTID  ClassValue  Kmeans_Cluster\n",
       "0         1           2             3.0\n",
       "1         2           2             3.0\n",
       "2         3           1             3.0\n",
       "3         4           1             5.0\n",
       "4         5           1             3.0"
      ]
     },
     "execution_count": 17,
     "metadata": {},
     "output_type": "execute_result"
    }
   ],
   "source": [
    "kmeans_valid_all = pd.concat([all_valid_data,kmeans_all_df], axis=1, sort=False)\n",
    "kmeans_valid_all.columns=[\"OBJECTID\",\"ClassValue\",\"Kmeans_Cluster\"]\n",
    "kmeans_valid_all.head()"
   ]
  },
  {
   "cell_type": "code",
   "execution_count": 18,
   "metadata": {},
   "outputs": [
    {
     "data": {
      "text/html": [
       "<div>\n",
       "<style scoped>\n",
       "    .dataframe tbody tr th:only-of-type {\n",
       "        vertical-align: middle;\n",
       "    }\n",
       "\n",
       "    .dataframe tbody tr th {\n",
       "        vertical-align: top;\n",
       "    }\n",
       "\n",
       "    .dataframe thead th {\n",
       "        text-align: right;\n",
       "    }\n",
       "</style>\n",
       "<table border=\"1\" class=\"dataframe\">\n",
       "  <thead>\n",
       "    <tr style=\"text-align: right;\">\n",
       "      <th></th>\n",
       "      <th>OBJECTID</th>\n",
       "      <th>ClassValue</th>\n",
       "      <th>Kmeans_Cluster</th>\n",
       "      <th>new</th>\n",
       "    </tr>\n",
       "  </thead>\n",
       "  <tbody>\n",
       "    <tr>\n",
       "      <th>0</th>\n",
       "      <td>1</td>\n",
       "      <td>2</td>\n",
       "      <td>3.0</td>\n",
       "      <td>1.0</td>\n",
       "    </tr>\n",
       "    <tr>\n",
       "      <th>1</th>\n",
       "      <td>2</td>\n",
       "      <td>2</td>\n",
       "      <td>3.0</td>\n",
       "      <td>1.0</td>\n",
       "    </tr>\n",
       "    <tr>\n",
       "      <th>2</th>\n",
       "      <td>3</td>\n",
       "      <td>1</td>\n",
       "      <td>3.0</td>\n",
       "      <td>1.0</td>\n",
       "    </tr>\n",
       "    <tr>\n",
       "      <th>3</th>\n",
       "      <td>4</td>\n",
       "      <td>1</td>\n",
       "      <td>5.0</td>\n",
       "      <td>1.0</td>\n",
       "    </tr>\n",
       "    <tr>\n",
       "      <th>4</th>\n",
       "      <td>5</td>\n",
       "      <td>1</td>\n",
       "      <td>3.0</td>\n",
       "      <td>1.0</td>\n",
       "    </tr>\n",
       "  </tbody>\n",
       "</table>\n",
       "</div>"
      ],
      "text/plain": [
       "   OBJECTID  ClassValue  Kmeans_Cluster  new\n",
       "0         1           2             3.0  1.0\n",
       "1         2           2             3.0  1.0\n",
       "2         3           1             3.0  1.0\n",
       "3         4           1             5.0  1.0\n",
       "4         5           1             3.0  1.0"
      ]
     },
     "execution_count": 18,
     "metadata": {},
     "output_type": "execute_result"
    }
   ],
   "source": [
    "kmeans_valid_all.loc[kmeans_valid_all['Kmeans_Cluster'] == 8.0,\"new\"] = class8\n",
    "kmeans_valid_all.loc[kmeans_valid_all['Kmeans_Cluster'] == 7.0,\"new\"] = class7\n",
    "kmeans_valid_all.loc[kmeans_valid_all['Kmeans_Cluster'] == 6.0,\"new\"] = class6\n",
    "kmeans_valid_all.loc[kmeans_valid_all['Kmeans_Cluster'] == 5.0,\"new\"] = class5\n",
    "kmeans_valid_all.loc[kmeans_valid_all['Kmeans_Cluster'] == 4.0,\"new\"] = class4\n",
    "kmeans_valid_all.loc[kmeans_valid_all['Kmeans_Cluster'] == 3.0,\"new\"] = class3\n",
    "kmeans_valid_all.loc[kmeans_valid_all['Kmeans_Cluster'] == 2.0,\"new\"] = class2\n",
    "kmeans_valid_all.loc[kmeans_valid_all['Kmeans_Cluster'] == 1.0,\"new\"] = class1\n",
    "kmeans_valid_all.head()"
   ]
  },
  {
   "cell_type": "code",
   "execution_count": 19,
   "metadata": {},
   "outputs": [
    {
     "data": {
      "text/plain": [
       "0.8361469712015889"
      ]
     },
     "execution_count": 19,
     "metadata": {},
     "output_type": "execute_result"
    }
   ],
   "source": [
    "ytest = kmeans_valid_all['ClassValue']\n",
    "ypred = kmeans_valid_all['new']\n",
    "accuracy_score(ytest, ypred)"
   ]
  },
  {
   "cell_type": "code",
   "execution_count": 20,
   "metadata": {},
   "outputs": [
    {
     "name": "stdout",
     "output_type": "stream",
     "text": [
      "[[455  67   0]\n",
      " [ 86 186   4]\n",
      " [  0   8 201]]\n"
     ]
    },
    {
     "data": {
      "image/png": "[encoded data removed]",
      "text/plain": [
       "<Figure size 432x288 with 2 Axes>"
      ]
     },
     "metadata": {
      "needs_background": "light"
     },
     "output_type": "display_data"
    }
   ],
   "source": [
    "#Print confusion matrix for linear kernel SVM\n",
    "print(confusion_matrix(ytest, ypred))\n",
    "\n",
    "plt.imshow(confusion_matrix(ytest, ypred),\n",
    "           cmap='Blues', interpolation='nearest')\n",
    "plt.colorbar()\n",
    "plt.grid(False)\n",
    "plt.ylabel('true')\n",
    "plt.xlabel('predicted');"
   ]
  },
  {
   "cell_type": "code",
   "execution_count": null,
   "metadata": {},
   "outputs": [],
   "source": []
  }
 ],
 "metadata": {
  "kernelspec": {
   "display_name": "Python 3",
   "language": "python",
   "name": "python3"
  },
  "language_info": {
   "codemirror_mode": {
    "name": "ipython",
    "version": 3
   },
   "file_extension": ".py",
   "mimetype": "text/x-python",
   "name": "python",
   "nbconvert_exporter": "python",
   "pygments_lexer": "ipython3",
   "version": "3.6.6"
  }
 },
 "nbformat": 4,
 "nbformat_minor": 2
}
