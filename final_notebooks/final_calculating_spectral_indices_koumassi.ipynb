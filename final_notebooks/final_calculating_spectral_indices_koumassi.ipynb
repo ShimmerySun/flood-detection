{
 "cells": [
  {
   "cell_type": "markdown",
   "metadata": {},
   "source": [
    "This notebook calculates spectral indices, develops a thresholded flood map and calculates the accuracy score relative to a reference data set for the Koumassi area of interest. "
   ]
  },
  {
   "cell_type": "code",
   "execution_count": null,
   "metadata": {},
   "outputs": [],
   "source": [
    "%matplotlib inline"
   ]
  },
  {
   "cell_type": "code",
   "execution_count": null,
   "metadata": {},
   "outputs": [],
   "source": [
    "# Import necessary packages\n",
    "\n",
    "import os\n",
    "from glob import glob\n",
    "import pickle\n",
    "import numpy as np\n",
    "import numpy.ma as ma\n",
    "import pandas as pd\n",
    "import geopandas as gpd\n",
    "import matplotlib.pyplot as plt\n",
    "from matplotlib.colors import ListedColormap\n",
    "from mpl_toolkits.axes_grid1 import make_axes_locatable\n",
    "from sklearn.metrics import accuracy_score\n",
    "from sklearn.metrics import confusion_matrix\n",
    "import rasterio as rio\n",
    "from rasterio.mask import mask\n",
    "import earthpy as et\n",
    "import earthpy.spatial as es\n",
    "import earthpy.plot as ep\n",
    "\n",
    "# Import modules with custom functions\n",
    "import sys\n",
    "sys.path.insert(0, '..\\\\modules\\\\')\n",
    "import morph_indices\n",
    "import calc_array_mask"
   ]
  },
  {
   "cell_type": "code",
   "execution_count": null,
   "metadata": {},
   "outputs": [],
   "source": [
    "from skimage import disk"
   ]
  },
  {
   "cell_type": "markdown",
   "metadata": {},
   "source": [
    "### Note: user should update \"aoi\" parameter with directory name for imagery of interest"
   ]
  },
  {
   "cell_type": "code",
   "execution_count": null,
   "metadata": {},
   "outputs": [],
   "source": [
    "# Identidy area of interest (aoi), set directories for inputs and outputs\n",
    "aoi = \"koumassi_focus_ps\"\n",
    "\n",
    "# Check for existing imagery directory\n",
    "band_path = '..\\\\data\\\\'+aoi+\"\\\\\"\n",
    "try:\n",
    "    os.makedirs(band_path)\n",
    "except FileExistsError:\n",
    "    print(\"band_path directory already exists!\")\n",
    "\n",
    "# Check for existing outputs directory for raster files\n",
    "outputs_path = os.path.join(band_path, \"final_outputs\\\\raster_files\\\\\")\n",
    "try:\n",
    "    os.makedirs(outputs_path)\n",
    "except FileExistsError:\n",
    "    print(\"outputs_path directory already exists!\")\n",
    "threshold_outputs_path = os.path.join(band_path, \"final_outputs\\\\threshold\\\\\")\n",
    "try:\n",
    "    os.makedirs(threshold_outputs_path)\n",
    "except FileExistsError:\n",
    "    print(\"threshold_outputs_path directory already exists!\")\n",
    "\n",
    "# Set path for validation data\n",
    "validation_data_path = os.path.join(band_path, 'validation\\\\')\n",
    "\n",
    "# Imports validation data\n",
    "sample_pts = gpd.read_file(\n",
    "    validation_data_path+\"vector-data\\\\additional_val_points_koumassi.shp\")\n",
    "valid_data = pd.read_csv(validation_data_path +\n",
    "                         \"additional_val_points_koumassi.csv\")"
   ]
  },
  {
   "cell_type": "code",
   "execution_count": null,
   "metadata": {},
   "outputs": [],
   "source": [
    "# Create raster stack of all spectral bands\n",
    "all_dg_bands = glob(band_path+\"*band_*\")\n",
    "all_dg_bands.sort()\n",
    "all_bands_path = os.path.join(outputs_path, aoi + \"_all_bands.tif\")\n",
    "all_bands, all_bands_meta = es.stack(all_dg_bands,\n",
    "                                     all_bands_path)"
   ]
  },
  {
   "cell_type": "code",
   "execution_count": null,
   "metadata": {},
   "outputs": [],
   "source": [
    "# Open raster stack and make copies of meta file for use in writing out files later\n",
    "with rio.open(all_bands_path) as src:\n",
    "    all_bands_stack = src.read()\n",
    "    stack_meta = src.meta\n",
    "    files_out_meta = src.meta.copy()\n",
    "    masks_out_meta = src.meta.copy()"
   ]
  },
  {
   "cell_type": "code",
   "execution_count": null,
   "metadata": {},
   "outputs": [],
   "source": [
    "# Update files_out_meta for writing out single files\n",
    "files_out_meta['count'] = 1\n",
    "\n",
    "# Update masks_out_meta for writing single integer type files\n",
    "masks_out_meta['dtype'] = 'int32'\n",
    "masks_out_meta['count'] = 1"
   ]
  },
  {
   "cell_type": "code",
   "execution_count": null,
   "metadata": {},
   "outputs": [],
   "source": [
    "# Scale raster stack to surface reflectance values (should be between 0 and 1)\n",
    "all_bands_scaled = all_bands_stack/10000"
   ]
  },
  {
   "cell_type": "code",
   "execution_count": null,
   "metadata": {},
   "outputs": [],
   "source": [
    "# Read in scaled bands\n",
    "coastal_scaled = all_bands_scaled[0]\n",
    "blue_scaled = all_bands_scaled[1]\n",
    "green_scaled = all_bands_scaled[2]\n",
    "yellow_scaled = all_bands_scaled[3]\n",
    "red_scaled = all_bands_scaled[4]\n",
    "rededge_scaled = all_bands_scaled[5]\n",
    "nearir1_scaled = all_bands_scaled[6]\n",
    "nearir2_scaled = all_bands_scaled[7]"
   ]
  },
  {
   "cell_type": "markdown",
   "metadata": {},
   "source": [
    "# Calculate NDWI, NDVI and DARK parameters"
   ]
  },
  {
   "cell_type": "code",
   "execution_count": null,
   "metadata": {},
   "outputs": [],
   "source": [
    "# Calculate NDWI, NDVI and dark parameters\n",
    "ndwi0 = es.normalized_diff(b1=green_scaled, b2=nearir1_scaled)\n",
    "ndwi0_v2 = es.normalized_diff(b1=green_scaled, b2=nearir2_scaled)\n",
    "ndwi1 = es.normalized_diff(b1=coastal_scaled, b2=nearir2_scaled)\n",
    "ndwi2 = es.normalized_diff(b1=yellow_scaled, b2=nearir2_scaled)\n",
    "ndvi = es.normalized_diff(b1=nearir1_scaled, b2=red_scaled)\n",
    "dark = rededge_scaled + nearir1_scaled + nearir2_scaled"
   ]
  },
  {
   "cell_type": "code",
   "execution_count": null,
   "metadata": {},
   "outputs": [],
   "source": [
    "# Write out files\n",
    "with rio.open(outputs_path+'ndvi.tif', 'w', **files_out_meta) as dst:\n",
    "    dst.write(ndvi, 1)\n",
    "with rio.open(outputs_path+'dark.tif', 'w', **files_out_meta) as dst:\n",
    "    dst.write(dark, 1)\n",
    "\n",
    "# Write out NDVI and dark parameters, tagged with \"raw\" for inclusion in SVM model\n",
    "with rio.open(outputs_path+'raw_ndvi.tif', 'w', **files_out_meta) as dst:\n",
    "    dst.write(ndvi, 1)\n",
    "with rio.open(outputs_path+'raw_dark.tif', 'w', **files_out_meta) as dst:\n",
    "    dst.write(dark, 1)"
   ]
  },
  {
   "cell_type": "code",
   "execution_count": null,
   "metadata": {},
   "outputs": [],
   "source": [
    "# Calculate and compare mean NDWI values\n",
    "mean_ndwi0 = np.nanmean(ndwi0)\n",
    "mean_ndwi0_v2 = np.nanmean(ndwi0_v2)\n",
    "mean_ndwi1 = np.nanmean(ndwi1)\n",
    "mean_ndwi2 = np.nanmean(ndwi2)\n",
    "print(\"NDWI0:\", mean_ndwi0, \"NDWI0_v2\", mean_ndwi0_v2,\n",
    "      \"NDWI1:\", mean_ndwi1, \"NDWI2:\", mean_ndwi2)"
   ]
  },
  {
   "cell_type": "markdown",
   "metadata": {},
   "source": [
    "### Thresholds for plotting can be changed based on user preference"
   ]
  },
  {
   "cell_type": "code",
   "execution_count": null,
   "metadata": {},
   "outputs": [],
   "source": [
    "# Plot NDWIs for comparison\n",
    "fig, (ax1, ax2, ax3, ax4) = plt.subplots(1, 4, figsize=(20, 8))\n",
    "# was at -0.20\n",
    "threshold = -0.15\n",
    "plt.suptitle('NDWI Values - June 17, 2016\\n'+aoi+\"\\n\", fontsize=16)\n",
    "\n",
    "ndwi0_plot = ax1.imshow(ndwi0 > threshold, cmap='RdBu', vmin=-1, vmax=1)\n",
    "fig.colorbar(ndwi0_plot, fraction=.05)\n",
    "ax1.set(title=\"NDWI0\")\n",
    "ax1.set_axis_off()\n",
    "\n",
    "ndwi0_v2_plot = ax2.imshow(ndwi0_v2 > threshold, cmap='RdBu', vmin=-1, vmax=1)\n",
    "ax2.set(title=\"NDWI0_v2\")\n",
    "ax2.set_axis_off()\n",
    "\n",
    "ndwi1_plot = ax3.imshow(ndwi1 > threshold, cmap='RdBu', vmin=-1, vmax=1)\n",
    "ax3.set(title=\"NDWI1\")\n",
    "ax3.set_axis_off()\n",
    "\n",
    "ndwi2_plot = ax4.imshow(ndwi2 > threshold, cmap='RdBu', vmin=-1, vmax=1)\n",
    "ax4.set(title=\"NDWI2\")\n",
    "ax4.set_axis_off()"
   ]
  },
  {
   "cell_type": "markdown",
   "metadata": {},
   "source": [
    "### The threshold values for each flood mask can be changed per user preference"
   ]
  },
  {
   "cell_type": "code",
   "execution_count": null,
   "metadata": {},
   "outputs": [],
   "source": [
    "# Calculate parameters to mimic Cloud to Street algorithm\n",
    "flood1 = ((ndwi1 >= -0.30) & (dark <= 2) & (coastal_scaled <= 0.5)\n",
    "          & (red_scaled <= 0.5)).astype(int)\n",
    "flood2 = ((ndwi2 >= -0.12) & (dark <= 2) & (coastal_scaled <= 0.5)).astype(int)\n",
    "\n",
    "# Combine flood1 and flood 2\n",
    "flood_combo = np.ma.where(flood1 == 1, 1, np.where(flood2 == 1, 1, 0))"
   ]
  },
  {
   "cell_type": "code",
   "execution_count": null,
   "metadata": {},
   "outputs": [],
   "source": [
    "# Plot Flood1, Flood2 and Flood Combo masks\n",
    "fig, (ax1, ax2, ax3) = plt.subplots(1, 3, figsize=(20, 10))\n",
    "plt.suptitle('Flood1 and Flood2 - June 17, 2016\\n'+aoi+\"\\n\", fontsize=16)\n",
    "\n",
    "flood1_plot = ax1.imshow(flood1, cmap='GnBu', vmin=0, vmax=1)\n",
    "fig.colorbar(flood1_plot, fraction=.05)\n",
    "ax1.set(title=\"flood1\\n\")\n",
    "ax1.set_axis_off()\n",
    "\n",
    "flood2_plot = ax2.imshow(flood2, cmap='GnBu', vmin=0, vmax=1)\n",
    "ax2.set(title=\"flood2\\n\")\n",
    "ax2.set_axis_off()\n",
    "\n",
    "flood_combo_plot = ax3.imshow(flood_combo, cmap='GnBu', vmin=0, vmax=1)\n",
    "ax3.set(title=\"flood combo\\n\")\n",
    "ax3.set_axis_off()"
   ]
  },
  {
   "cell_type": "markdown",
   "metadata": {},
   "source": [
    "### The threshold values for each NDWI mask can be changed per user preferences"
   ]
  },
  {
   "cell_type": "code",
   "execution_count": null,
   "metadata": {},
   "outputs": [],
   "source": [
    "# Plot NDWI masks\n",
    "ndwi0_thresh = -0.20\n",
    "ndwi1_thresh = -0.30\n",
    "ndwi2_thresh = -0.12\n",
    "\n",
    "fig, (ax1, ax2, ax3) = plt.subplots(1, 3, figsize=(20, 10))\n",
    "plt.suptitle('Flood1 and Flood2 - June 17, 2016\\n'+aoi+\"\\n\", fontsize=16)\n",
    "\n",
    "ndwi0_plot = ax1.imshow(ndwi0 > ndwi0_thresh, cmap='GnBu', vmin=0, vmax=1)\n",
    "fig.colorbar(ndwi0_plot, fraction=.05)\n",
    "ax1.set(title=\"NDWI0\\n\")\n",
    "ax1.set_axis_off()\n",
    "\n",
    "ndwi1_plot = ax2.imshow(ndwi1 > ndwi1_thresh, cmap='GnBu', vmin=0, vmax=1)\n",
    "ax2.set(title=\"NDWI1\\n\")\n",
    "ax2.set_axis_off()\n",
    "\n",
    "ndwi2_plot = ax3.imshow(ndwi2 > ndwi2_thresh, cmap='GnBu', vmin=0, vmax=1)\n",
    "ax3.set(title=\"NDWI2\\n\")\n",
    "ax3.set_axis_off()"
   ]
  },
  {
   "cell_type": "markdown",
   "metadata": {},
   "source": [
    "### User can make choices on threshold and disk_size for morphological smoothing"
   ]
  },
  {
   "cell_type": "code",
   "execution_count": null,
   "metadata": {},
   "outputs": [],
   "source": [
    "# Apply morphological opening to reduce noise for flood combo\n",
    "flood_mask = morph_indices.smooth_disk(\n",
    "    index_array=flood_combo, threshold=0.1, disk_size=1)\n",
    "\n",
    "# Define vegetation mask\n",
    "vegetation_mask = morph_indices.smooth_disk(\n",
    "    index_array=ndvi, threshold=0.1, disk_size=0)"
   ]
  },
  {
   "cell_type": "code",
   "execution_count": null,
   "metadata": {},
   "outputs": [],
   "source": [
    "# Write out flood mask files\n",
    "with rio.open(outputs_path+'flood1_mask.tif', 'w', **masks_out_meta) as dst:\n",
    "    dst.write(flood1, 1)\n",
    "with rio.open(outputs_path+'flood2_mask.tif', 'w', **masks_out_meta) as dst:\n",
    "    dst.write(flood2, 1)\n",
    "with rio.open(outputs_path+'flood_combo_mask.tif', 'w', **masks_out_meta) as dst:\n",
    "    dst.write(flood_mask, 1)\n",
    "\n",
    "# Write out vegetation mask file\n",
    "with rio.open(outputs_path+'vegetation_mask.tif', 'w', **masks_out_meta) as dst:\n",
    "    dst.write(vegetation_mask, 1)\n",
    "\n",
    "# Write out mask files based on thresholds\n",
    "with rio.open(outputs_path+'ndwi0_mask.tif', 'w', **masks_out_meta) as dst:\n",
    "    dst.write((ndwi0 > -0.12).astype(int), 1)\n",
    "with rio.open(outputs_path+'ndwi1_mask.tif', 'w', **masks_out_meta) as dst:\n",
    "    dst.write((ndwi1 > -0.12).astype(int), 1)\n",
    "with rio.open(outputs_path+'ndwi2_mask.tif', 'w', **masks_out_meta) as dst:\n",
    "    dst.write((ndwi2 > -0.12).astype(int), 1)"
   ]
  },
  {
   "cell_type": "markdown",
   "metadata": {},
   "source": [
    "# Calculate Morphological Shadow Index (MSI)"
   ]
  },
  {
   "cell_type": "markdown",
   "metadata": {},
   "source": [
    "### User can change s_min, s_max and s_delta. Current parameters chosen based on Huang et al. (2012)"
   ]
  },
  {
   "cell_type": "code",
   "execution_count": null,
   "metadata": {},
   "outputs": [],
   "source": [
    "# Calculate MSI\n",
    "msi = morph_indices.calc_msi(\n",
    "    raster_input=all_bands_scaled, s_min=2, s_max=52, s_delta=5)"
   ]
  },
  {
   "cell_type": "code",
   "execution_count": null,
   "metadata": {},
   "outputs": [],
   "source": [
    "# Plot MSI\n",
    "fig, ax = plt.subplots(figsize=(20, 10))\n",
    "msi_plot = ax.imshow(msi >= 0.12, cmap='Oranges',\n",
    "                     vmin=0, vmax=0.5)\n",
    "fig.colorbar(msi_plot, fraction=0.05)\n",
    "ax.set(title=\"MSI, June 17, 2016\\n\"+aoi+\"\\n\")\n",
    "ax.set_axis_off()\n",
    "plt.show()"
   ]
  },
  {
   "cell_type": "markdown",
   "metadata": {},
   "source": [
    "### Threshold and disk size can be changed based on user preference "
   ]
  },
  {
   "cell_type": "code",
   "execution_count": null,
   "metadata": {},
   "outputs": [],
   "source": [
    "# Develop shadow mask from MSI by applying morphological smoothing.\n",
    "# Note that threshold and disk size may be varied.\n",
    "shadow_mask = morph_indices.smooth_disk(\n",
    "    index_array=msi, threshold=0.12, disk_size=2)\n",
    "\n",
    "# Plot shadow mask\n",
    "fig, ax = plt.subplots(figsize=(20, 10))\n",
    "test_plot = ax.imshow(shadow_mask, cmap='Oranges')\n",
    "fig.colorbar(test_plot, fraction=.05)\n",
    "ax.set(title=\"MSI Shadow Mask, June 17, 2016\\n\"+aoi+\"\\n\")\n",
    "ax.set_axis_off()\n",
    "plt.show()"
   ]
  },
  {
   "cell_type": "code",
   "execution_count": null,
   "metadata": {},
   "outputs": [],
   "source": [
    "# Write out MSI and shadow mask tif file\n",
    "with rio.open(outputs_path+'shadow_mask.tif', 'w', **masks_out_meta) as dst:\n",
    "    dst.write(shadow_mask, 1)\n",
    "with rio.open(outputs_path+'msi'+'.tif', 'w', **files_out_meta) as dst:\n",
    "    dst.write(msi, 1)\n",
    "\n",
    "# Write out MSI tagged with 'raw' for inclusion in SVM model inputs\n",
    "with rio.open(outputs_path+'raw_msi'+'.tif', 'w', **files_out_meta) as dst:\n",
    "    dst.write(msi, 1)"
   ]
  },
  {
   "cell_type": "markdown",
   "metadata": {},
   "source": [
    "# Calculate NDWI \"optimal\" - MSI from Xie et al (2016)"
   ]
  },
  {
   "cell_type": "code",
   "execution_count": null,
   "metadata": {},
   "outputs": [],
   "source": [
    "# Calculate optimal NDWI values with NIR2\n",
    "ndwi_coastal = es.normalized_diff(b1=coastal_scaled, b2=nearir2_scaled)\n",
    "\n",
    "# Note that ndwi_yellow is same as ndwi2 above\n",
    "ndwi_yellow = es.normalized_diff(b1=yellow_scaled, b2=nearir2_scaled)"
   ]
  },
  {
   "cell_type": "code",
   "execution_count": null,
   "metadata": {},
   "outputs": [],
   "source": [
    "# Substract MSI from most promising NDWI results\n",
    "ndwi_coastal_msi = ndwi_coastal - msi\n",
    "ndwi_yellow_msi = ndwi_yellow - msi"
   ]
  },
  {
   "cell_type": "markdown",
   "metadata": {},
   "source": [
    "### Threshold can be changed based on user preference "
   ]
  },
  {
   "cell_type": "code",
   "execution_count": null,
   "metadata": {
    "scrolled": false
   },
   "outputs": [],
   "source": [
    "# Plots for NDWI_Coastal  and NDWI_Yellow Masks\n",
    "thresh = -0.12\n",
    "fig, (ax1, ax2) = plt.subplots(1, 2, figsize=(20, 10))\n",
    "\n",
    "plt.suptitle('NDWI_Coastal and NDWI_Yellow n June 17, 2016\\n' +\n",
    "             aoi+\"\\n\", fontsize=16)\n",
    "\n",
    "ndwi_coastal_plot = ax1.imshow(\n",
    "    ndwi_coastal > -.30, cmap='Blues', vmin=0, vmax=1)\n",
    "ax1.set(title=\"NDWI_Coastal\\n\")\n",
    "ax1.set_axis_off()\n",
    "\n",
    "ndwi_yellow_plot = ax2.imshow(\n",
    "    ndwi_yellow > thresh, cmap='Blues', vmin=0, vmax=1)\n",
    "ax2.set(title=\"NDWI_Yellow\\n\")\n",
    "ax2.set_axis_off()\n",
    "\n",
    "fig.colorbar(ndwi_coastal_plot, fraction=.05)\n",
    "plt.show()"
   ]
  },
  {
   "cell_type": "code",
   "execution_count": null,
   "metadata": {},
   "outputs": [],
   "source": [
    "# Plots for NDWI_Coastal  and NDWI_Yellow Masks\n",
    "thresh = -0.12\n",
    "fig, (ax1, ax2) = plt.subplots(1, 2, figsize=(20, 10))\n",
    "\n",
    "plt.suptitle(\n",
    "    'NDWI_Coastal_MSI and NDWI_Yellow_MSI n June 17, 2016\\n'+aoi+\"\\n\", fontsize=16)\n",
    "\n",
    "ndwi_coastal_plot = ax1.imshow(\n",
    "    ndwi_coastal_msi > -.30, cmap='Blues', vmin=0, vmax=1)\n",
    "ax1.set(title=\"NDWI_Coastal\\n\")\n",
    "ax1.set_axis_off()\n",
    "\n",
    "ndwi_yellow_plot = ax2.imshow(\n",
    "    ndwi_yellow_msi > thresh, cmap='Blues', vmin=0, vmax=1)\n",
    "ax2.set(title=\"NDWI_Yellow\\n\")\n",
    "ax2.set_axis_off()\n",
    "\n",
    "fig.colorbar(ndwi_coastal_plot, fraction=.05)\n",
    "plt.show()"
   ]
  },
  {
   "cell_type": "code",
   "execution_count": null,
   "metadata": {},
   "outputs": [],
   "source": [
    "# Write out files tagged with 'raw' for inclusion in SVM model inputs\n",
    "with rio.open(outputs_path+'raw_ndwi_coastal.tif', 'w', **files_out_meta) as dst:\n",
    "    dst.write(ndwi_coastal, 1)\n",
    "with rio.open(outputs_path+'raw_ndwi_coastal_msi.tif', 'w', **files_out_meta) as dst:\n",
    "    dst.write(ndwi_coastal_msi, 1)\n",
    "with rio.open(outputs_path+'raw_ndwi_yellow.tif', 'w', **files_out_meta) as dst:\n",
    "    dst.write(ndwi_yellow, 1)\n",
    "with rio.open(outputs_path+'raw_ndwi_yellow_msi.tif', 'w', **files_out_meta) as dst:\n",
    "    dst.write(ndwi_yellow_msi, 1)"
   ]
  },
  {
   "cell_type": "markdown",
   "metadata": {},
   "source": [
    "# Calculate Morphological Building Index (MBI)"
   ]
  },
  {
   "cell_type": "markdown",
   "metadata": {},
   "source": [
    "### User can change s_min, s_max and s_delta. Current parameters chosen based on Huang et al. (2012)"
   ]
  },
  {
   "cell_type": "code",
   "execution_count": null,
   "metadata": {},
   "outputs": [],
   "source": [
    "# Calculate MBI\n",
    "mbi = morph_indices.calc_mbi(\n",
    "    raster_input=all_bands_scaled, s_min=2, s_max=52, s_delta=5)\n",
    "\n",
    "# Plot MBI\n",
    "fig, ax = plt.subplots(figsize=(20, 10))\n",
    "mbi_plot = ax.imshow(mbi, cmap='copper_r',\n",
    "                     vmin=0, vmax=0)\n",
    "fig.colorbar(mbi_plot, fraction=0.05)\n",
    "ax.set(title=\"MBI, June 17, 2016\\n\"+aoi+\"\\n\")\n",
    "ax.set_axis_off()\n",
    "plt.show()"
   ]
  },
  {
   "cell_type": "markdown",
   "metadata": {},
   "source": [
    "### Threshold and disk size can be changed based on user preference "
   ]
  },
  {
   "cell_type": "code",
   "execution_count": null,
   "metadata": {},
   "outputs": [],
   "source": [
    "# Develop shadow mask for MBI >=0.025 and apply morphological opening\n",
    "# Previous threshold = 0.015\n",
    "building_mask = morph_indices.smooth_disk(\n",
    "    index_array=mbi, threshold=0.005, disk_size=3)\n",
    "\n",
    "# Plot building mask layer\n",
    "fig, ax = plt.subplots(figsize=(20, 10))\n",
    "building_plot = ax.imshow(building_mask, cmap='copper_r',\n",
    "                          vmin=0, vmax=1)\n",
    "fig.colorbar(building_plot, fraction=.05)\n",
    "ax.set(title=\"MBI Building Mask\\n June 17, 2016\\n\"+aoi+\"\\n\")\n",
    "ax.set_axis_off()\n",
    "plt.show()"
   ]
  },
  {
   "cell_type": "code",
   "execution_count": null,
   "metadata": {},
   "outputs": [],
   "source": [
    "# Write out MBI and building mask files\n",
    "with rio.open(outputs_path+'building_mask.tif', 'w', **masks_out_meta) as dst:\n",
    "    dst.write(building_mask, 1)\n",
    "with rio.open(outputs_path+'mbi.tif', 'w', **files_out_meta) as dst:\n",
    "    dst.write(mbi, 1)\n",
    "\n",
    "# Write out MBI tagged with 'raw' for inclusion in SVM model inputs\n",
    "with rio.open(outputs_path+'raw_mbi.tif', 'w', **files_out_meta) as dst:\n",
    "    dst.write(mbi, 1)"
   ]
  },
  {
   "cell_type": "markdown",
   "metadata": {},
   "source": [
    "# Combine land cover type masks into single image\n",
    "Hierarchy is as follows: Shadow_mask, flood_mask, veg_mask, building_mask\n",
    "\n",
    "Which means:\n",
    "- values of 5, 10, 15, 20, 30, 60, 120 --> 5 (shadow)\n",
    "- values of 4, 8, 24 --> 4 (water) \n",
    "- values of 3, 6 --> 3 (vegetation)\n",
    "- values of 2,12 --> 2 (building) **Exception for hierarchy so buildings \"overrule\" flood*"
   ]
  },
  {
   "cell_type": "code",
   "execution_count": null,
   "metadata": {},
   "outputs": [],
   "source": [
    "# Combining masks into single array\n",
    "shadow_mask_comb = shadow_mask*5\n",
    "flood_mask_comb = flood_mask*4\n",
    "veg_mask_comb = vegetation_mask*3\n",
    "building_mask_comb = building_mask*2\n",
    "index_comb = shadow_mask_comb*flood_mask_comb*veg_mask_comb*building_mask_comb\n",
    "\n",
    "shadow_mask_comb = np.where(shadow_mask_comb == 0, 1, shadow_mask_comb)\n",
    "flood_mask_comb = np.ma.where(flood_mask_comb == 0, 1, flood_mask_comb)\n",
    "veg_mask_comb = np.where(veg_mask_comb == 0, 1, veg_mask_comb)\n",
    "building_mask_comb = np.where(building_mask_comb == 0, 1, building_mask_comb)\n",
    "index_comb = shadow_mask_comb*flood_mask_comb*veg_mask_comb*building_mask_comb\n",
    "np.unique(index_comb)\n",
    "\n",
    "# Reassign multiplied values to each defined class\n",
    "index_comb = np.where(index_comb >= 30, 5, index_comb)\n",
    "index_comb = np.where(index_comb == 10, 5, index_comb)\n",
    "index_comb = np.where(index_comb == 15, 5, index_comb)\n",
    "index_comb = np.where(index_comb == 20, 5, index_comb)\n",
    "index_comb = np.where(index_comb == 24, 4, index_comb)\n",
    "index_comb = np.where(index_comb == 12, 4, index_comb)\n",
    "index_comb = np.where(index_comb == 8, 2, index_comb)\n",
    "index_comb = np.where(index_comb == 6, 3, index_comb)"
   ]
  },
  {
   "cell_type": "code",
   "execution_count": null,
   "metadata": {},
   "outputs": [],
   "source": [
    "# Plot combined masks\n",
    "fig, ax = plt.subplots(figsize=(20, 10))\n",
    "cmap = ListedColormap(['white', 'grey', 'darkseagreen', 'steelblue', 'm'])\n",
    "ax.imshow(index_comb, cmap=cmap)\n",
    "ax.set(title=\"Combined Masks\\n June 17, 2016\\n\"+aoi+\"\\n\")\n",
    "ax.set_axis_off()\n",
    "plt.show()"
   ]
  },
  {
   "cell_type": "code",
   "execution_count": null,
   "metadata": {},
   "outputs": [],
   "source": [
    "# Make RGB-stack for plotting with threshold results\n",
    "rgb_bands = glob(band_path+\"*band_[1,2,4]*\")\n",
    "rgb_bands.sort()\n",
    "rgb_bands_path = os.path.join(threshold_outputs_path, aoi + \"_rgb_bands.tif\")\n",
    "rgb_bands, rgb_bands_meta = es.stack(rgb_bands,\n",
    "                                     rgb_bands_path)\n",
    "\n",
    "# Plot flood and shadow masks over RGB image\n",
    "fig, ax = plt.subplots(figsize=(20, 10))\n",
    "ep.plot_rgb(rgb_bands, rgb=(2, 1, 0), ax=ax)\n",
    "cmap = ListedColormap(['none', 'none', 'none', 'steelblue', 'm'])\n",
    "im = ax.imshow(index_comb, cmap=cmap)\n",
    "ep.draw_legend(im, titles=['', '', 'Flood Waters',\n",
    "                           'Building Shadow'], classes=[1, 2, 3, 4])\n",
    "ax.set(title=\"Flood and Shadow on RGB Image\\n June 17, 2016\\n\"+aoi+\"\\n\")\n",
    "ax.set_axis_off()\n",
    "plt.show()"
   ]
  },
  {
   "cell_type": "code",
   "execution_count": null,
   "metadata": {
    "scrolled": false
   },
   "outputs": [],
   "source": [
    "# Subset flood mask on its own\n",
    "flood_only_index_comb = np.where(index_comb != 4, 0, index_comb)\n",
    "\n",
    "# Plot flood only mask\n",
    "fig, ax = plt.subplots(figsize=(20, 10))\n",
    "cmap = ListedColormap(['none', 'royalblue'])\n",
    "ax.imshow(flood_only_index_comb, cmap=cmap)\n",
    "ax.set(title=\"Flood Only Mask\\n June 17, 2016\\n\"+aoi+\"\\n\")\n",
    "ax.set_axis_off()\n",
    "plt.show()"
   ]
  },
  {
   "cell_type": "code",
   "execution_count": null,
   "metadata": {},
   "outputs": [],
   "source": [
    "# Write out threshold maps\n",
    "with rio.open(threshold_outputs_path+'koumassi_threshold_map.tif', 'w', **files_out_meta) as dst:\n",
    "    dst.write(index_comb.astype('float32'), 1)\n",
    "with rio.open(threshold_outputs_path+'_koumassi_flood_only_index_comb.tif', 'w', **files_out_meta) as dst:\n",
    "    dst.write(flood_only_index_comb.astype('float32'), 1)"
   ]
  },
  {
   "cell_type": "markdown",
   "metadata": {},
   "source": [
    "# Validate model with reference data set"
   ]
  },
  {
   "cell_type": "code",
   "execution_count": null,
   "metadata": {},
   "outputs": [],
   "source": [
    "# Sample reference points\n",
    "# Create tuples of all x coordinates and y coordinates\n",
    "x_coords = tuple(sample_pts.geometry.x)\n",
    "y_coords = tuple(sample_pts.geometry.y)\n",
    "\n",
    "index_comb_path = threshold_outputs_path+\"koumassi_threshold_map.tif\"\n",
    "sampled_values = []\n",
    "\n",
    "# Sample raster at each combo of x and y coordinates\n",
    "with rio.open(index_comb_path) as src:\n",
    "    for val in src.sample(zip(x_coords, y_coords)):\n",
    "\n",
    "        # Note that each val is an individual numpy array\n",
    "        sampled_values.append(val)\n",
    "\n",
    "# Convert list to one-dimensional array\n",
    "arr = np.array([sampled_values]).squeeze()\n",
    "\n",
    "# Convert array to dataframe\n",
    "index_comb_df = pd.DataFrame(arr)\n",
    "index_comb_df.head()\n",
    "index_comb_df.columns = [\"Land_Cover_Class\"]\n",
    "\n",
    "# Combine reference data with index values\n",
    "accuracy_threshold = pd.concat([valid_data, index_comb_df], axis=1, sort=False)\n",
    "accuracy_threshold.loc[accuracy_threshold['Land_Cover_Class']\n",
    "                       == 5.0, \"Threshold_ClassValue\"] = 1\n",
    "accuracy_threshold.loc[accuracy_threshold['Land_Cover_Class']\n",
    "                       == 4.0, \"Threshold_ClassValue\"] = 2\n",
    "accuracy_threshold.loc[accuracy_threshold['Land_Cover_Class']\n",
    "                       == 3.0, \"Threshold_ClassValue\"] = 3\n",
    "accuracy_threshold.loc[accuracy_threshold['Land_Cover_Class']\n",
    "                       == 2.0, \"Threshold_ClassValue\"] = 4\n",
    "accuracy_threshold.loc[accuracy_threshold['Land_Cover_Class']\n",
    "                       == 1.0, \"Threshold_ClassValue\"] = 5  # No data"
   ]
  },
  {
   "cell_type": "code",
   "execution_count": null,
   "metadata": {},
   "outputs": [],
   "source": [
    "# Calculate accuracy score\n",
    "ytest = accuracy_threshold['ClassValue']\n",
    "ypred = accuracy_threshold['Threshold_ClassValue']\n",
    "accuracy_score(ytest, ypred)"
   ]
  },
  {
   "cell_type": "code",
   "execution_count": null,
   "metadata": {},
   "outputs": [],
   "source": [
    "# Print confusion matrix\n",
    "conf_matrix = confusion_matrix(ytest, ypred)\n",
    "conf_matrix = conf_matrix[0:4, 0:4]\n",
    "print(conf_matrix)\n",
    "\n",
    "# Plot confusion matrix\n",
    "fig, ax = plt.subplots(figsize=(5, 5))\n",
    "plt.setp(ax, xticks=np.arange(4), xticklabels=['Predicted \\n Shadow', \n",
    "                                               'Predicted \\n Flood', \n",
    "                                               'Predicted \\n Vegetation', \n",
    "                                               'Predicted \\n Buildings'],\n",
    "         yticks=np.arange(4), yticklabels=['True \\n Shadow', \n",
    "                                           'True \\n Flood', \n",
    "                                           'True \\n Vegetation', \n",
    "                                           'True\\n Buildings'])\n",
    "conf_mat = ax.imshow(conf_matrix, cmap='Blues',\n",
    "                     interpolation='nearest')\n",
    "ax.set(title=\"Threshold Map Confusion Matrix\\n\")\n",
    "divider = make_axes_locatable(ax)\n",
    "cax1 = divider.append_axes(\"right\", size=\"5%\", pad=0.15)\n",
    "fig.colorbar(conf_mat, cax=cax1)\n",
    "plt.show()"
   ]
  },
  {
   "cell_type": "code",
   "execution_count": null,
   "metadata": {},
   "outputs": [],
   "source": [
    "# Write out confusion matrix\n",
    "confusion_threshold = confusion_matrix(ytest, ypred)\n",
    "pd.DataFrame(confusion_threshold).to_csv(\n",
    "    threshold_outputs_path+'koumassi_threshold_confusion.csv')"
   ]
  },
  {
   "cell_type": "code",
   "execution_count": null,
   "metadata": {},
   "outputs": [],
   "source": [
    "# Subset to focus only on flood, all other reference points (shadow, other) removed\n",
    "flood_only_accuracy = accuracy_threshold[accuracy_threshold.ClassValue == 2]\n",
    "\n",
    "# Calculate accuracy score for flood only subset\n",
    "ytest_flood_only = flood_only_accuracy['ClassValue']\n",
    "ypred_flood_only = flood_only_accuracy['Threshold_ClassValue']\n",
    "print(accuracy_score(ytest_flood_only, ypred_flood_only))\n",
    "print('')\n",
    "\n",
    "# Print and plot confusion matrix\n",
    "conf_matrix = confusion_matrix(ytest_flood_only, ypred_flood_only)\n",
    "conf_matrix = conf_matrix[0:4, 0:4]\n",
    "print(conf_matrix)\n",
    "fig, ax = plt.subplots(figsize=(5, 5))\n",
    "plt.setp(ax, xticks=np.arange(4), xticklabels=['Predicted \\n Shadow', \n",
    "                                               'Predicted \\n Flood', \n",
    "                                               'Predicted \\n Vegetation', \n",
    "                                               'Predicted \\n Buildings'],\n",
    "         yticks=np.arange(4), yticklabels=['True \\n Shadow', \n",
    "                                           'True \\n Flood', \n",
    "                                           'True \\n Vegetation', \n",
    "                                           'True\\n Buildings'])\n",
    "conf_mat = ax.imshow(conf_matrix, cmap='Blues',\n",
    "                     interpolation='nearest')\n",
    "ax.set(title=\"k-means Confusion Matrix\\n\")\n",
    "# divider = make_axes_locatable(ax)\n",
    "# cax1 = divider.append_axes(\"right\", size=\"5%\", pad=0.15)\n",
    "# fig.colorbar(conf_mat, cax=cax1)\n",
    "plt.show()"
   ]
  },
  {
   "cell_type": "code",
   "execution_count": null,
   "metadata": {},
   "outputs": [],
   "source": [
    "# Write out flood only confusion matrix\n",
    "confusion_threshold_flood_only = confusion_matrix(\n",
    "    ytest_flood_only, ypred_flood_only)\n",
    "pd.DataFrame(confusion_threshold_flood_only).to_csv(\n",
    "    threshold_outputs_path+'koumassi_threshold_confusion_flood_only.csv')"
   ]
  },
  {
   "cell_type": "code",
   "execution_count": null,
   "metadata": {},
   "outputs": [],
   "source": []
  }
 ],
 "metadata": {
  "kernelspec": {
   "display_name": "Python 3",
   "language": "python",
   "name": "python3"
  },
  "language_info": {
   "codemirror_mode": {
    "name": "ipython",
    "version": 3
   },
   "file_extension": ".py",
   "mimetype": "text/x-python",
   "name": "python",
   "nbconvert_exporter": "python",
   "pygments_lexer": "ipython3",
   "version": "3.6.6"
  }
 },
 "nbformat": 4,
 "nbformat_minor": 2
}
