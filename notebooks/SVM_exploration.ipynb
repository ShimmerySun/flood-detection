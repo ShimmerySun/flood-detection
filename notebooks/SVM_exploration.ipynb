{
 "cells": [
  {
   "cell_type": "markdown",
   "metadata": {},
   "source": [
    "This is a working notebook exploring if SVM is a useful tool to separate shadow and floodwaters. \n",
    "\n",
    "The notebook uses the rasterio.sample method to extract data at specific points identified in an ArcGIS shapefile.\n",
    "This data is then used to fit/train and test a SVM model using both a linear and rbf kernel. \n",
    "The accuracy score and confusion matrix are calculated to quantify how well the model fits the test data. \n",
    "\n",
    "Inputs to model include combination of index raw values for:\n",
    "\"Dark\" parameter, MBI, MSI, NDVI, NDWI0, NDWI1, NDWI2, NDWIcoastal-MSI, NDWIgreen-MSI\n",
    "These index values are calculated using the notebook \"ndwi_msi_with_modules\"\n",
    "\n",
    "The model is calibrated and then validated on data not included in either the training or intial testing of the model. \n",
    "\n",
    "Training/test data set represents 60% of overall dataset. Final validation is done with remaining 40%"
   ]
  },
  {
   "cell_type": "code",
   "execution_count": 1,
   "metadata": {},
   "outputs": [],
   "source": [
    "# Import necessary packages\n",
    "import os\n",
    "import numpy as np\n",
    "# import numpy.ma as ma\n",
    "import matplotlib.pyplot as plt\n",
    "from glob import glob\n",
    "import pandas as pd\n",
    "import geopandas as gpd\n",
    "import rasterio as rio\n",
    "# from rasterio.mask import mask\n",
    "import earthpy as et\n",
    "import earthpy.spatial as es\n",
    "\n",
    "from sklearn.svm import SVC \n",
    "from sklearn.model_selection import train_test_split\n",
    "from sklearn.metrics import accuracy_score\n",
    "from sklearn.metrics import confusion_matrix\n",
    "from sklearn.covariance import EmpiricalCovariance"
   ]
  },
  {
   "cell_type": "code",
   "execution_count": 2,
   "metadata": {},
   "outputs": [],
   "source": [
    "# Set working directory\n",
    "os.chdir(os.path.join(et.io.HOME, 'earth-analytics','spring-2019', 'flood-detection'))\n",
    "os.environ[\"PROJ_LIB\"] = r\"C:\\Users\\katy\\Anaconda3\\envs\\earth-analytics-python\\Library\\share\""
   ]
  },
  {
   "cell_type": "markdown",
   "metadata": {},
   "source": [
    "## Try SVM on raw data including: dark parameter, NDWIs, NDVI, MSI, and MBI data"
   ]
  },
  {
   "cell_type": "code",
   "execution_count": 3,
   "metadata": {},
   "outputs": [],
   "source": [
    "# Read in data for aoi identified. \n",
    "# Raw metric files must be available and named appropriately per ndwi_msi_with_modules notebook.\n",
    "# sample points availabel from data folder (?)\n",
    "aoi = 'koumassi_focus_ps'\n",
    "sample_pts_path = os.path.join(\"validation\",\"vector-data\\\\\")\n",
    "raw_path = os.path.join(\"dg-data\",aoi,\"outputs\",\"indices_and_mask_files\")\n",
    "raw_list = glob(raw_path+\"\\\\\"+\"*raw*\")\n",
    "raw_list.sort()\n",
    "sample_pts = gpd.read_file(sample_pts_path+\"validation_points_koumassi_60_percent.shp\")\n",
    "validation_sample_pts = gpd.read_file(sample_pts_path+\"validation_points_koumassi_40_percent.shp\")\n",
    "\n",
    "# Create tuples of all x coordinates and y coordinates \n",
    "x_coords = tuple(sample_pts.geometry.x)\n",
    "y_coords = tuple(sample_pts.geometry.y)"
   ]
  },
  {
   "cell_type": "code",
   "execution_count": null,
   "metadata": {},
   "outputs": [],
   "source": [
    "# sampled_values = []\n",
    "i = 0\n",
    "index_list = []\n",
    "filename=[]\n",
    "\n",
    "for raw in raw_list:\n",
    "    sampled_values = []\n",
    "    \n",
    "    # Sample raster at each combo of x and y coordinates\n",
    "    with rio.open(raw) as src:\n",
    "        for val in src.sample(zip(x_coords, y_coords)):\n",
    "            i = i+1\n",
    "        # Note that each val is an individual numpy array\n",
    "        # print(val.shape)\n",
    "            sampled_values.append(val)\n",
    "        arr = np.array([sampled_values]).squeeze()\n",
    "        index_list.append([arr])\n",
    "        filename.append(raw[57:78])\n",
    "        \n",
    "\n",
    "labels = filename\n",
    "index_df = pd.DataFrame(np.concatenate(index_list))\n",
    "index_df = index_df.transpose()\n",
    "index_df.columns=labels\n",
    "filepath = \"validation\\\\\"+\"raw_index_values.csv\"\n",
    "index_df.to_csv(filepath) "
   ]
  },
  {
   "cell_type": "code",
   "execution_count": 4,
   "metadata": {},
   "outputs": [],
   "source": [
    "# Need to merge raw_index_values from above with classvalues from arcgis\n",
    "\n",
    "# validation_data = pd.read_csv(\"validation\\\\Masks_testpoints.csv\")\n",
    "#validation_data = pd.read_csv(\"validation\\\\Index_value_testpoints.csv\")\n",
    "train_data = pd.read_csv(\"validation\\\\raw_index_values_60_percent.csv\")\n",
    "# test_data = pd.read_csv(\"validation\\\\AllData_Test.csv\")\n",
    "# mask_train_data = pd.read_csv(\"validation\\\\Mask_AllData_Train.csv\")\n",
    "# mask_test_data = = pd.read_csv(\"validation\\\\Mask_AllData_Train.csv\")"
   ]
  },
  {
   "cell_type": "code",
   "execution_count": null,
   "metadata": {},
   "outputs": [],
   "source": [
    "# type(validation_data)"
   ]
  },
  {
   "cell_type": "code",
   "execution_count": null,
   "metadata": {},
   "outputs": [],
   "source": [
    "# Xtrain = train_data.iloc[:,[2,3,4,5,6]].values\n",
    "# ytrain = train_data.iloc[:,1].values"
   ]
  },
  {
   "cell_type": "code",
   "execution_count": null,
   "metadata": {},
   "outputs": [],
   "source": [
    "# Xtest = test_data.iloc[:,[2,3,4,5,6,]].values\n",
    "# ytest = test_data.iloc[:,1].values"
   ]
  },
  {
   "cell_type": "code",
   "execution_count": 5,
   "metadata": {},
   "outputs": [],
   "source": [
    "X = train_data.iloc[:,[2,3,4,9,11]].values\n",
    "y = train_data.iloc[:,1].values"
   ]
  },
  {
   "cell_type": "code",
   "execution_count": 6,
   "metadata": {},
   "outputs": [
    {
     "name": "stdout",
     "output_type": "stream",
     "text": [
      "(604, 5) (604,)\n"
     ]
    }
   ],
   "source": [
    "print(X.shape, y.shape)\n",
    "# print(Xtrain.shape, ytrain.shape)"
   ]
  },
  {
   "cell_type": "code",
   "execution_count": 7,
   "metadata": {},
   "outputs": [],
   "source": [
    "Xtrain, Xtest, ytrain, ytest = train_test_split(X, y, test_size=0.4)"
   ]
  },
  {
   "cell_type": "code",
   "execution_count": 8,
   "metadata": {},
   "outputs": [
    {
     "data": {
      "text/plain": [
       "0.9380165289256198"
      ]
     },
     "execution_count": 8,
     "metadata": {},
     "output_type": "execute_result"
    }
   ],
   "source": [
    "clf = SVC(kernel='linear')\n",
    "clf.fit(Xtrain, ytrain)\n",
    "ypred = clf.predict(Xtest)\n",
    "accuracy_score(ytest, ypred)"
   ]
  },
  {
   "cell_type": "code",
   "execution_count": null,
   "metadata": {},
   "outputs": [],
   "source": [
    "# Xtrain2, Xtest2, ytrain2, ytest2 = train_test_split(X, y)"
   ]
  },
  {
   "cell_type": "code",
   "execution_count": 9,
   "metadata": {},
   "outputs": [
    {
     "name": "stderr",
     "output_type": "stream",
     "text": [
      "C:\\Users\\katy\\Anaconda3\\envs\\earth-analytics-python\\lib\\site-packages\\sklearn\\svm\\base.py:196: FutureWarning: The default value of gamma will change from 'auto' to 'scale' in version 0.22 to account better for unscaled features. Set gamma explicitly to 'auto' or 'scale' to avoid this warning.\n",
      "  \"avoid this warning.\", FutureWarning)\n"
     ]
    },
    {
     "data": {
      "text/plain": [
       "0.9173553719008265"
      ]
     },
     "execution_count": 9,
     "metadata": {},
     "output_type": "execute_result"
    }
   ],
   "source": [
    "clf_rbf = SVC(kernel='rbf')\n",
    "clf_rbf.fit(Xtrain, ytrain)\n",
    "ypred_rbf = clf_rbf.predict(Xtest)\n",
    "accuracy_score(ytest, ypred_rbf)"
   ]
  },
  {
   "cell_type": "code",
   "execution_count": 10,
   "metadata": {},
   "outputs": [
    {
     "name": "stdout",
     "output_type": "stream",
     "text": [
      "[[127   3   0]\n",
      " [  9  41   0]\n",
      " [  1   2  59]]\n"
     ]
    },
    {
     "data": {
      "image/png": "[encoded data removed]",
      "text/plain": [
       "<Figure size 432x288 with 2 Axes>"
      ]
     },
     "metadata": {
      "needs_background": "light"
     },
     "output_type": "display_data"
    }
   ],
   "source": [
    "#Print confusion matrix for linear kernel SVM\n",
    "print(confusion_matrix(ytest, ypred))\n",
    "\n",
    "plt.imshow(confusion_matrix(ytest, ypred),\n",
    "           cmap='Blues', interpolation='nearest')\n",
    "plt.colorbar()\n",
    "plt.grid(False)\n",
    "plt.ylabel('true')\n",
    "plt.xlabel('predicted');"
   ]
  },
  {
   "cell_type": "code",
   "execution_count": 11,
   "metadata": {},
   "outputs": [
    {
     "name": "stdout",
     "output_type": "stream",
     "text": [
      "[[128   2   0]\n",
      " [ 15  35   0]\n",
      " [  0   3  59]]\n"
     ]
    },
    {
     "data": {
      "image/png": "[encoded data removed]",
      "text/plain": [
       "<Figure size 432x288 with 2 Axes>"
      ]
     },
     "metadata": {
      "needs_background": "light"
     },
     "output_type": "display_data"
    }
   ],
   "source": [
    "#Print confusion matrix for rbf kernel SVM\n",
    "print(confusion_matrix(ytest, ypred_rbf))\n",
    "\n",
    "plt.imshow(confusion_matrix(ytest, ypred_rbf),\n",
    "           cmap='Blues', interpolation='nearest')\n",
    "plt.colorbar()\n",
    "plt.grid(False)\n",
    "plt.ylabel('true')\n",
    "plt.xlabel('predicted');"
   ]
  },
  {
   "cell_type": "code",
   "execution_count": null,
   "metadata": {},
   "outputs": [],
   "source": [
    "# Try Maximum Likelihood Estimator covariance model ?"
   ]
  },
  {
   "cell_type": "code",
   "execution_count": null,
   "metadata": {},
   "outputs": [],
   "source": [
    "# cov = EmpiricalCovariance().fit(Xtrain)\n",
    "# ypred_cov = cov.predict(Xtest)\n",
    "# accuracy_score(ytest, ypred_cov)"
   ]
  },
  {
   "cell_type": "markdown",
   "metadata": {},
   "source": [
    "Linear kernel appears to be better fit for data, depending on which parameters are included in model.\n",
    "Tried playing with different combinations of indices. Current model includes the following combination:\n",
    "\n",
    "- Dark parameter\n",
    "- MBI\n",
    "- MSI\n",
    "- NDVI\n",
    "- NDWIcoastal - MSI\n",
    "- NDWIgreen - MSI"
   ]
  },
  {
   "cell_type": "markdown",
   "metadata": {},
   "source": [
    "# Validation with 40% of data held back from SVM model development"
   ]
  },
  {
   "cell_type": "code",
   "execution_count": 18,
   "metadata": {},
   "outputs": [],
   "source": [
    "# Create tuples of all x coordinates and y coordinates \n",
    "x_valid_coords = tuple(validation_sample_pts.geometry.x)\n",
    "y_valid_coords = tuple(validation_sample_pts.geometry.y)\n",
    "\n",
    "# sampled_values = []\n",
    "i = 0\n",
    "index_valid_list = []\n",
    "filename=[]\n",
    "\n",
    "for raw in raw_list:\n",
    "    sampled_values = []\n",
    "    \n",
    "    # Sample raster at each combo of x and y coordinates\n",
    "    with rio.open(raw) as src:\n",
    "        for val in src.sample(zip(x_valid_coords, y_valid_coords)):\n",
    "            i = i+1\n",
    "        # Note that each val is an individual numpy array\n",
    "        # print(val.shape)\n",
    "            sampled_values.append(val)\n",
    "        arr = np.array([sampled_values]).squeeze()\n",
    "        index_valid_list.append([arr])\n",
    "        filename.append(raw[57:78])\n",
    "        \n",
    "\n",
    "labels = filename\n",
    "index_valid_df = pd.DataFrame(np.concatenate(index_valid_list))\n",
    "index_valid_df = index_valid_df.transpose()\n",
    "index_valid_df.columns=labels\n",
    "filepath = \"validation\\\\\"+\"validation_raw_index_values.csv\"\n",
    "index_valid_df.to_csv(filepath) "
   ]
  },
  {
   "cell_type": "code",
   "execution_count": 24,
   "metadata": {},
   "outputs": [],
   "source": [
    "valid_data = pd.read_csv(\"validation\\\\validation_raw_index_40_percent.csv\")\n",
    "Xvalid = valid_data.iloc[:,[2,3,4,9,11]].values\n",
    "yvalid = valid_data.iloc[:,1].values"
   ]
  },
  {
   "cell_type": "code",
   "execution_count": 25,
   "metadata": {},
   "outputs": [
    {
     "data": {
      "text/plain": [
       "0.8957816377171216"
      ]
     },
     "execution_count": 25,
     "metadata": {},
     "output_type": "execute_result"
    }
   ],
   "source": [
    "ypred_valid = clf.predict(Xvalid)\n",
    "accuracy_score(yvalid, ypred_valid)"
   ]
  },
  {
   "cell_type": "code",
   "execution_count": 28,
   "metadata": {},
   "outputs": [
    {
     "name": "stdout",
     "output_type": "stream",
     "text": [
      "[[199  10   0]\n",
      " [ 27  89   0]\n",
      " [  2   3  73]]\n"
     ]
    },
    {
     "data": {
      "image/png": "[encoded data removed]",
      "text/plain": [
       "<Figure size 432x288 with 2 Axes>"
      ]
     },
     "metadata": {
      "needs_background": "light"
     },
     "output_type": "display_data"
    }
   ],
   "source": [
    "#Print confusion matrix for linear kernel SVM\n",
    "print(confusion_matrix(yvalid, ypred_valid))\n",
    "\n",
    "plt.imshow(confusion_matrix(yvalid, ypred_valid),\n",
    "           cmap='Blues', interpolation='nearest')\n",
    "plt.colorbar()\n",
    "plt.grid(False)\n",
    "plt.ylabel('true')\n",
    "plt.xlabel('predicted');"
   ]
  },
  {
   "cell_type": "code",
   "execution_count": 26,
   "metadata": {},
   "outputs": [
    {
     "data": {
      "text/plain": [
       "0.8660049627791563"
      ]
     },
     "execution_count": 26,
     "metadata": {},
     "output_type": "execute_result"
    }
   ],
   "source": [
    "ypred_rbf_valid = clf_rbf.predict(Xvalid)\n",
    "accuracy_score(yvalid, ypred_rbf_valid)"
   ]
  },
  {
   "cell_type": "code",
   "execution_count": 29,
   "metadata": {},
   "outputs": [
    {
     "name": "stdout",
     "output_type": "stream",
     "text": [
      "[[204   3   2]\n",
      " [ 44  72   0]\n",
      " [  0   5  73]]\n"
     ]
    },
    {
     "data": {
      "image/png": "[encoded data removed]",
      "text/plain": [
       "<Figure size 432x288 with 2 Axes>"
      ]
     },
     "metadata": {
      "needs_background": "light"
     },
     "output_type": "display_data"
    }
   ],
   "source": [
    "#Print confusion matrix for rbf kernel SVM\n",
    "print(confusion_matrix(yvalid, ypred_rbf_valid))\n",
    "\n",
    "plt.imshow(confusion_matrix(yvalid, ypred_rbf_valid),\n",
    "           cmap='Blues', interpolation='nearest')\n",
    "plt.colorbar()\n",
    "plt.grid(False)\n",
    "plt.ylabel('true')\n",
    "plt.xlabel('predicted');"
   ]
  },
  {
   "cell_type": "markdown",
   "metadata": {},
   "source": [
    "Code from PyCon 2015 Jake VanderPlas presentation "
   ]
  },
  {
   "cell_type": "code",
   "execution_count": null,
   "metadata": {},
   "outputs": [],
   "source": [
    "# def plot_svc_decision_function(clf, ax=None):\n",
    "#     \"\"\"Plot the decision function for a 2D SVC\"\"\"\n",
    "#     if ax is None:\n",
    "#         ax = plt.gca()\n",
    "#     x = np.linspace(plt.xlim()[0], plt.xlim()[1], 30)\n",
    "#     y = np.linspace(plt.ylim()[0], plt.ylim()[1], 30)\n",
    "#     Y, X = np.meshgrid(y, x)\n",
    "#     P = np.zeros_like(X)\n",
    "#     for i, xi in enumerate(x):\n",
    "#         for j, yj in enumerate(y):\n",
    "#             P[i, j] = clf.decision_function([[xi, yj]])\n",
    "#     # plot the margins\n",
    "#     ax.contour(X, Y, P, colors='k',\n",
    "#                levels=[-1, 0, 1], alpha=0.5,\n",
    "#                linestyles=['--', '-', '--'])"
   ]
  },
  {
   "cell_type": "code",
   "execution_count": null,
   "metadata": {},
   "outputs": [],
   "source": [
    "# def plot_svc_decision_function(model, ax=None, plot_support=True):\n",
    "#     \"\"\"Plot the decision function for a 2D SVC\"\"\"\n",
    "#     if ax is None:\n",
    "#         ax = plt.gca()\n",
    "#     xlim = ax.get_xlim()\n",
    "#     ylim = ax.get_ylim()\n",
    "    \n",
    "#     # create grid to evaluate model\n",
    "#     x = np.linspace(xlim[0], xlim[1], 30)\n",
    "#     y = np.linspace(ylim[0], ylim[1], 30)\n",
    "#     Y, X = np.meshgrid(y, x)\n",
    "#     xy = np.vstack([X.ravel(), Y.ravel()]).T\n",
    "#     P = model.decision_function(xy).reshape(X.shape)\n",
    "    \n",
    "#     # plot decision boundary and margins\n",
    "#     ax.contour(X, Y, P, colors='k',\n",
    "#                levels=[-1, 0, 1], alpha=0.5,\n",
    "#                linestyles=['--', '-', '--'])\n",
    "    \n",
    "#     # plot support vectors\n",
    "#     if plot_support:\n",
    "#         ax.scatter(model.support_vectors_[:, 0],\n",
    "#                    model.support_vectors_[:, 1],\n",
    "#                    s=300, linewidth=1, facecolors='none');\n",
    "#     ax.set_xlim(xlim)\n",
    "#     ax.set_ylim(ylim)"
   ]
  },
  {
   "cell_type": "code",
   "execution_count": null,
   "metadata": {},
   "outputs": [],
   "source": [
    "# plt.scatter(X[:, 0], X[:, 1], c=y, s=50, cmap='spring')\n",
    "# plot_svc_decision_function(clf);"
   ]
  },
  {
   "cell_type": "code",
   "execution_count": null,
   "metadata": {},
   "outputs": [],
   "source": [
    "# from sklearn.grid_search import GridSearchCV\n",
    "# param_grid = {'svc__C': [1, 5, 10, 50],\n",
    "#               'svc__gamma': [0.0001, 0.0005, 0.001, 0.005]}\n",
    "# grid = GridSearchCV(model, param_grid)\n",
    "\n",
    "# %time grid.fit(Xtrain, ytrain)\n",
    "# print(grid.best_params_)"
   ]
  },
  {
   "cell_type": "code",
   "execution_count": null,
   "metadata": {},
   "outputs": [],
   "source": [
    "# clf = SVC(C=50,kernel='rbf')\n",
    "# clf.fit(X, y)\n",
    "\n",
    "# plt.scatter(X[:, 0], X[:, 1], c=y, s=50, cmap='spring')\n",
    "# plot_svc_decision_function(clf)\n",
    "# plt.scatter(clf.support_vectors_[:, 0], clf.support_vectors_[:, 1],\n",
    "#             s=200, facecolors='none');"
   ]
  },
  {
   "cell_type": "code",
   "execution_count": null,
   "metadata": {},
   "outputs": [],
   "source": [
    "# clf"
   ]
  },
  {
   "cell_type": "code",
   "execution_count": null,
   "metadata": {},
   "outputs": [],
   "source": [
    "# def visualize_tree(estimator, X, y, boundaries=True,\n",
    "#                    xlim=None, ylim=None):\n",
    "#     estimator.fit(X, y)\n",
    "\n",
    "#     if xlim is None:\n",
    "#         xlim = (X[:, 0].min() - 0.1, X[:, 0].max() + 0.1)\n",
    "#     if ylim is None:\n",
    "#         ylim = (X[:, 1].min() - 0.1, X[:, 1].max() + 0.1)\n",
    "\n",
    "#     x_min, x_max = xlim\n",
    "#     y_min, y_max = ylim\n",
    "#     xx, yy = np.meshgrid(np.linspace(x_min, x_max, 100),\n",
    "#                          np.linspace(y_min, y_max, 100))\n",
    "#     Z = estimator.predict(np.c_[xx.ravel(), yy.ravel()])\n",
    "\n",
    "#     # Put the result into a color plot\n",
    "#     Z = Z.reshape(xx.shape)\n",
    "#     plt.figure()\n",
    "#     plt.pcolormesh(xx, yy, Z, alpha=0.2, cmap='rainbow')\n",
    "#     plt.clim(y.min(), y.max())\n",
    "\n",
    "#     # Plot also the training points\n",
    "#     plt.scatter(X[:, 0], X[:, 1], c=y, s=50, cmap='rainbow')\n",
    "#     plt.axis('off')\n",
    "\n",
    "#     plt.xlim(x_min, x_max)\n",
    "#     plt.ylim(y_min, y_max)        \n",
    "#     plt.clim(y.min(), y.max())"
   ]
  },
  {
   "cell_type": "code",
   "execution_count": null,
   "metadata": {},
   "outputs": [],
   "source": [
    "# def plot_tree_interactive(X, y):\n",
    "#     from sklearn.tree import DecisionTreeClassifier\n",
    "\n",
    "#     def interactive_tree(depth=1):\n",
    "#         clf = DecisionTreeClassifier(max_depth=depth, random_state=0)\n",
    "#         visualize_tree(clf, X, y)\n",
    "\n",
    "#     from ipywidgets import interact\n",
    "#     return interact(interactive_tree, depth=(1, 15))"
   ]
  },
  {
   "cell_type": "code",
   "execution_count": null,
   "metadata": {},
   "outputs": [],
   "source": [
    "# plot_tree_interactive(X, y);"
   ]
  },
  {
   "cell_type": "code",
   "execution_count": null,
   "metadata": {},
   "outputs": [],
   "source": [
    "# from sklearn.ensemble import RandomForestClassifier\n",
    "# clf = RandomForestClassifier(n_estimators=1000, random_state=0)\n",
    "# visualize_tree(clf, X, y, boundaries=False);"
   ]
  },
  {
   "cell_type": "code",
   "execution_count": null,
   "metadata": {},
   "outputs": [],
   "source": []
  },
  {
   "cell_type": "code",
   "execution_count": null,
   "metadata": {},
   "outputs": [],
   "source": []
  }
 ],
 "metadata": {
  "kernelspec": {
   "display_name": "Python 3",
   "language": "python",
   "name": "python3"
  },
  "language_info": {
   "codemirror_mode": {
    "name": "ipython",
    "version": 3
   },
   "file_extension": ".py",
   "mimetype": "text/x-python",
   "name": "python",
   "nbconvert_exporter": "python",
   "pygments_lexer": "ipython3",
   "version": "3.6.6"
  }
 },
 "nbformat": 4,
 "nbformat_minor": 2
}
